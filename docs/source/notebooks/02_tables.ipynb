{
 "cells": [
  {
   "cell_type": "markdown",
   "metadata": {},
   "source": [
    "# Accessing the data in bulk\n",
    "\n",
    "This short tutorial explains how to retrieve full tables from the database into [pandas DataFrames](http://pandas.pydata.org/pandas-docs/stable/generated/pandas.DataFrame.html)."
   ]
  },
  {
   "cell_type": "markdown",
   "metadata": {},
   "source": [
    "## The following tables are available from ``mendeleev``\n",
    "\n",
    "* elements\n",
    "* ionicradii\n",
    "* ionizationenergies\n",
    "* oxidationstates\n",
    "* groups\n",
    "* series\n",
    "* isotopes"
   ]
  },
  {
   "cell_type": "markdown",
   "metadata": {},
   "source": [
    "``mendeleev`` provides a convenient function `get_table` to perform the task at hand. The function can be directly imported from `mendeleev`"
   ]
  },
  {
   "cell_type": "code",
   "execution_count": 1,
   "metadata": {
    "collapsed": false,
    "jupyter": {
     "outputs_hidden": false
    }
   },
   "outputs": [],
   "source": [
    "from mendeleev import get_table"
   ]
  },
  {
   "cell_type": "markdown",
   "metadata": {},
   "source": [
    "To retrieve a table call the ``get_table`` with the table name as argument. Here we'll get probably the most important table ``elements`` with basis data on each element"
   ]
  },
  {
   "cell_type": "code",
   "execution_count": 2,
   "metadata": {
    "collapsed": false,
    "jupyter": {
     "outputs_hidden": false
    }
   },
   "outputs": [],
   "source": [
    "ptable = get_table('elements')"
   ]
  },
  {
   "cell_type": "markdown",
   "metadata": {},
   "source": [
    "Now we can use [pandas'](http://pandas.pydata.org) capabilities to work with the data. "
   ]
  },
  {
   "cell_type": "code",
   "execution_count": 3,
   "metadata": {
    "collapsed": false,
    "jupyter": {
     "outputs_hidden": false
    }
   },
   "outputs": [
    {
     "name": "stdout",
     "output_type": "stream",
     "text": [
      "<class 'pandas.core.frame.DataFrame'>\n",
      "RangeIndex: 118 entries, 0 to 117\n",
      "Data columns (total 70 columns):\n",
      " #   Column                         Non-Null Count  Dtype  \n",
      "---  ------                         --------------  -----  \n",
      " 0   annotation                     118 non-null    object \n",
      " 1   atomic_number                  118 non-null    int64  \n",
      " 2   atomic_radius                  90 non-null     float64\n",
      " 3   atomic_volume                  91 non-null     float64\n",
      " 4   block                          118 non-null    object \n",
      " 5   boiling_point                  96 non-null     float64\n",
      " 6   density                        95 non-null     float64\n",
      " 7   description                    109 non-null    object \n",
      " 8   dipole_polarizability          117 non-null    float64\n",
      " 9   electron_affinity              77 non-null     float64\n",
      " 10  electronic_configuration       118 non-null    object \n",
      " 11  evaporation_heat               88 non-null     float64\n",
      " 12  fusion_heat                    75 non-null     float64\n",
      " 13  group_id                       90 non-null     float64\n",
      " 14  lattice_constant               87 non-null     float64\n",
      " 15  lattice_structure              91 non-null     object \n",
      " 16  melting_point                  100 non-null    float64\n",
      " 17  name                           118 non-null    object \n",
      " 18  period                         118 non-null    int64  \n",
      " 19  series_id                      118 non-null    int64  \n",
      " 20  specific_heat                  81 non-null     float64\n",
      " 21  symbol                         118 non-null    object \n",
      " 22  thermal_conductivity           66 non-null     float64\n",
      " 23  vdw_radius                     103 non-null    float64\n",
      " 24  covalent_radius_cordero        96 non-null     float64\n",
      " 25  covalent_radius_pyykko         118 non-null    float64\n",
      " 26  en_pauling                     85 non-null     float64\n",
      " 27  en_allen                       71 non-null     float64\n",
      " 28  jmol_color                     109 non-null    object \n",
      " 29  cpk_color                      103 non-null    object \n",
      " 30  proton_affinity                32 non-null     float64\n",
      " 31  gas_basicity                   32 non-null     float64\n",
      " 32  heat_of_formation              89 non-null     float64\n",
      " 33  c6                             43 non-null     float64\n",
      " 34  covalent_radius_bragg          37 non-null     float64\n",
      " 35  vdw_radius_bondi               28 non-null     float64\n",
      " 36  vdw_radius_truhlar             16 non-null     float64\n",
      " 37  vdw_radius_rt                  9 non-null      float64\n",
      " 38  vdw_radius_batsanov            65 non-null     float64\n",
      " 39  vdw_radius_dreiding            21 non-null     float64\n",
      " 40  vdw_radius_uff                 103 non-null    float64\n",
      " 41  vdw_radius_mm3                 94 non-null     float64\n",
      " 42  abundance_crust                88 non-null     float64\n",
      " 43  abundance_sea                  81 non-null     float64\n",
      " 44  molcas_gv_color                103 non-null    object \n",
      " 45  en_ghosh                       103 non-null    float64\n",
      " 46  vdw_radius_alvarez             94 non-null     float64\n",
      " 47  c6_gb                          86 non-null     float64\n",
      " 48  atomic_weight                  118 non-null    float64\n",
      " 49  atomic_weight_uncertainty      74 non-null     float64\n",
      " 50  is_monoisotopic                21 non-null     object \n",
      " 51  is_radioactive                 118 non-null    bool   \n",
      " 52  cas                            118 non-null    object \n",
      " 53  atomic_radius_rahm             96 non-null     float64\n",
      " 54  geochemical_class              76 non-null     object \n",
      " 55  goldschmidt_class              118 non-null    object \n",
      " 56  metallic_radius                56 non-null     float64\n",
      " 57  metallic_radius_c12            63 non-null     float64\n",
      " 58  covalent_radius_pyykko_double  108 non-null    float64\n",
      " 59  covalent_radius_pyykko_triple  80 non-null     float64\n",
      " 60  discoverers                    118 non-null    object \n",
      " 61  discovery_year                 105 non-null    float64\n",
      " 62  discovery_location             106 non-null    object \n",
      " 63  name_origin                    118 non-null    object \n",
      " 64  sources                        118 non-null    object \n",
      " 65  uses                           112 non-null    object \n",
      " 66  mendeleev_number               118 non-null    int64  \n",
      " 67  dipole_polarizability_unc      117 non-null    float64\n",
      " 68  pettifor_number                103 non-null    float64\n",
      " 69  glawe_number                   103 non-null    float64\n",
      "dtypes: bool(1), float64(46), int64(4), object(19)\n",
      "memory usage: 63.8+ KB\n"
     ]
    }
   ],
   "source": [
    "ptable.info()"
   ]
  },
  {
   "cell_type": "markdown",
   "metadata": {},
   "source": [
    "For clarity let's take only a subset of columns "
   ]
  },
  {
   "cell_type": "code",
   "execution_count": 4,
   "metadata": {},
   "outputs": [],
   "source": [
    "cols = ['atomic_number', 'symbol', 'atomic_radius', 'en_pauling', 'block', 'vdw_radius_mm3']"
   ]
  },
  {
   "cell_type": "code",
   "execution_count": 5,
   "metadata": {
    "collapsed": false,
    "jupyter": {
     "outputs_hidden": false
    }
   },
   "outputs": [
    {
     "data": {
      "text/html": [
       "<div>\n",
       "<style scoped>\n",
       "    .dataframe tbody tr th:only-of-type {\n",
       "        vertical-align: middle;\n",
       "    }\n",
       "\n",
       "    .dataframe tbody tr th {\n",
       "        vertical-align: top;\n",
       "    }\n",
       "\n",
       "    .dataframe thead th {\n",
       "        text-align: right;\n",
       "    }\n",
       "</style>\n",
       "<table border=\"1\" class=\"dataframe\">\n",
       "  <thead>\n",
       "    <tr style=\"text-align: right;\">\n",
       "      <th></th>\n",
       "      <th>atomic_number</th>\n",
       "      <th>symbol</th>\n",
       "      <th>atomic_radius</th>\n",
       "      <th>en_pauling</th>\n",
       "      <th>block</th>\n",
       "      <th>vdw_radius_mm3</th>\n",
       "    </tr>\n",
       "  </thead>\n",
       "  <tbody>\n",
       "    <tr>\n",
       "      <th>0</th>\n",
       "      <td>1</td>\n",
       "      <td>H</td>\n",
       "      <td>25.0</td>\n",
       "      <td>2.20</td>\n",
       "      <td>s</td>\n",
       "      <td>162.0</td>\n",
       "    </tr>\n",
       "    <tr>\n",
       "      <th>1</th>\n",
       "      <td>2</td>\n",
       "      <td>He</td>\n",
       "      <td>120.0</td>\n",
       "      <td>NaN</td>\n",
       "      <td>s</td>\n",
       "      <td>153.0</td>\n",
       "    </tr>\n",
       "    <tr>\n",
       "      <th>2</th>\n",
       "      <td>3</td>\n",
       "      <td>Li</td>\n",
       "      <td>145.0</td>\n",
       "      <td>0.98</td>\n",
       "      <td>s</td>\n",
       "      <td>255.0</td>\n",
       "    </tr>\n",
       "    <tr>\n",
       "      <th>3</th>\n",
       "      <td>4</td>\n",
       "      <td>Be</td>\n",
       "      <td>105.0</td>\n",
       "      <td>1.57</td>\n",
       "      <td>s</td>\n",
       "      <td>223.0</td>\n",
       "    </tr>\n",
       "    <tr>\n",
       "      <th>4</th>\n",
       "      <td>5</td>\n",
       "      <td>B</td>\n",
       "      <td>85.0</td>\n",
       "      <td>2.04</td>\n",
       "      <td>p</td>\n",
       "      <td>215.0</td>\n",
       "    </tr>\n",
       "  </tbody>\n",
       "</table>\n",
       "</div>"
      ],
      "text/plain": [
       "   atomic_number symbol  atomic_radius  en_pauling block  vdw_radius_mm3\n",
       "0              1      H           25.0        2.20     s           162.0\n",
       "1              2     He          120.0         NaN     s           153.0\n",
       "2              3     Li          145.0        0.98     s           255.0\n",
       "3              4     Be          105.0        1.57     s           223.0\n",
       "4              5      B           85.0        2.04     p           215.0"
      ]
     },
     "execution_count": 5,
     "metadata": {},
     "output_type": "execute_result"
    }
   ],
   "source": [
    "ptable[cols].head()"
   ]
  },
  {
   "cell_type": "markdown",
   "metadata": {},
   "source": [
    "It is quite easy now to get descriptive statistics on the data."
   ]
  },
  {
   "cell_type": "code",
   "execution_count": 6,
   "metadata": {
    "collapsed": false,
    "jupyter": {
     "outputs_hidden": false
    }
   },
   "outputs": [
    {
     "data": {
      "text/html": [
       "<div>\n",
       "<style scoped>\n",
       "    .dataframe tbody tr th:only-of-type {\n",
       "        vertical-align: middle;\n",
       "    }\n",
       "\n",
       "    .dataframe tbody tr th {\n",
       "        vertical-align: top;\n",
       "    }\n",
       "\n",
       "    .dataframe thead th {\n",
       "        text-align: right;\n",
       "    }\n",
       "</style>\n",
       "<table border=\"1\" class=\"dataframe\">\n",
       "  <thead>\n",
       "    <tr style=\"text-align: right;\">\n",
       "      <th></th>\n",
       "      <th>atomic_number</th>\n",
       "      <th>atomic_radius</th>\n",
       "      <th>en_pauling</th>\n",
       "      <th>vdw_radius_mm3</th>\n",
       "    </tr>\n",
       "  </thead>\n",
       "  <tbody>\n",
       "    <tr>\n",
       "      <th>count</th>\n",
       "      <td>118.000000</td>\n",
       "      <td>90.000000</td>\n",
       "      <td>85.000000</td>\n",
       "      <td>94.000000</td>\n",
       "    </tr>\n",
       "    <tr>\n",
       "      <th>mean</th>\n",
       "      <td>59.500000</td>\n",
       "      <td>149.844444</td>\n",
       "      <td>1.748588</td>\n",
       "      <td>248.468085</td>\n",
       "    </tr>\n",
       "    <tr>\n",
       "      <th>std</th>\n",
       "      <td>34.207699</td>\n",
       "      <td>40.079110</td>\n",
       "      <td>0.634442</td>\n",
       "      <td>36.017828</td>\n",
       "    </tr>\n",
       "    <tr>\n",
       "      <th>min</th>\n",
       "      <td>1.000000</td>\n",
       "      <td>25.000000</td>\n",
       "      <td>0.700000</td>\n",
       "      <td>153.000000</td>\n",
       "    </tr>\n",
       "    <tr>\n",
       "      <th>25%</th>\n",
       "      <td>30.250000</td>\n",
       "      <td>135.000000</td>\n",
       "      <td>1.240000</td>\n",
       "      <td>229.000000</td>\n",
       "    </tr>\n",
       "    <tr>\n",
       "      <th>50%</th>\n",
       "      <td>59.500000</td>\n",
       "      <td>145.000000</td>\n",
       "      <td>1.700000</td>\n",
       "      <td>244.000000</td>\n",
       "    </tr>\n",
       "    <tr>\n",
       "      <th>75%</th>\n",
       "      <td>88.750000</td>\n",
       "      <td>178.750000</td>\n",
       "      <td>2.160000</td>\n",
       "      <td>269.250000</td>\n",
       "    </tr>\n",
       "    <tr>\n",
       "      <th>max</th>\n",
       "      <td>118.000000</td>\n",
       "      <td>260.000000</td>\n",
       "      <td>3.980000</td>\n",
       "      <td>364.000000</td>\n",
       "    </tr>\n",
       "  </tbody>\n",
       "</table>\n",
       "</div>"
      ],
      "text/plain": [
       "       atomic_number  atomic_radius  en_pauling  vdw_radius_mm3\n",
       "count     118.000000      90.000000   85.000000       94.000000\n",
       "mean       59.500000     149.844444    1.748588      248.468085\n",
       "std        34.207699      40.079110    0.634442       36.017828\n",
       "min         1.000000      25.000000    0.700000      153.000000\n",
       "25%        30.250000     135.000000    1.240000      229.000000\n",
       "50%        59.500000     145.000000    1.700000      244.000000\n",
       "75%        88.750000     178.750000    2.160000      269.250000\n",
       "max       118.000000     260.000000    3.980000      364.000000"
      ]
     },
     "execution_count": 6,
     "metadata": {},
     "output_type": "execute_result"
    }
   ],
   "source": [
    "ptable[cols].describe()"
   ]
  },
  {
   "cell_type": "markdown",
   "metadata": {},
   "source": [
    "## Isotopes table\n",
    "\n",
    "Let try and retrieve another table, namely ``isotopes``"
   ]
  },
  {
   "cell_type": "code",
   "execution_count": 7,
   "metadata": {
    "collapsed": false,
    "jupyter": {
     "outputs_hidden": false
    }
   },
   "outputs": [],
   "source": [
    "isotopes = get_table('isotopes', index_col='id')"
   ]
  },
  {
   "cell_type": "code",
   "execution_count": 8,
   "metadata": {
    "collapsed": false,
    "jupyter": {
     "outputs_hidden": false
    }
   },
   "outputs": [
    {
     "name": "stdout",
     "output_type": "stream",
     "text": [
      "<class 'pandas.core.frame.DataFrame'>\n",
      "Int64Index: 406 entries, 1 to 406\n",
      "Data columns (total 11 columns):\n",
      " #   Column             Non-Null Count  Dtype  \n",
      "---  ------             --------------  -----  \n",
      " 0   atomic_number      406 non-null    int64  \n",
      " 1   mass               377 non-null    float64\n",
      " 2   abundance          288 non-null    float64\n",
      " 3   mass_number        406 non-null    int64  \n",
      " 4   mass_uncertainty   377 non-null    float64\n",
      " 5   is_radioactive     406 non-null    bool   \n",
      " 6   half_life          121 non-null    float64\n",
      " 7   half_life_unit     85 non-null     object \n",
      " 8   spin               323 non-null    float64\n",
      " 9   g_factor           323 non-null    float64\n",
      " 10  quadrupole_moment  320 non-null    float64\n",
      "dtypes: bool(1), float64(7), int64(2), object(1)\n",
      "memory usage: 35.3+ KB\n"
     ]
    }
   ],
   "source": [
    "isotopes.info()"
   ]
  },
  {
   "cell_type": "markdown",
   "metadata": {},
   "source": [
    "### Merge the elements table with the isotopes\n",
    "\n",
    "We can now perform SQL-like merge operation on two ``DataFrame``s and produce an [outer](http://pandas.pydata.org/pandas-docs/stable/merging.html#database-style-dataframe-joining-merging) join "
   ]
  },
  {
   "cell_type": "code",
   "execution_count": 9,
   "metadata": {},
   "outputs": [],
   "source": [
    "import pandas as pd"
   ]
  },
  {
   "cell_type": "code",
   "execution_count": 10,
   "metadata": {
    "collapsed": false,
    "jupyter": {
     "outputs_hidden": false
    }
   },
   "outputs": [],
   "source": [
    "merged = pd.merge(ptable[cols], isotopes, how='outer', on='atomic_number')"
   ]
  },
  {
   "cell_type": "markdown",
   "metadata": {},
   "source": [
    "now we have the following columns in the ``merged`` ``DataFrame``"
   ]
  },
  {
   "cell_type": "code",
   "execution_count": 11,
   "metadata": {
    "collapsed": false,
    "jupyter": {
     "outputs_hidden": false
    }
   },
   "outputs": [
    {
     "name": "stdout",
     "output_type": "stream",
     "text": [
      "<class 'pandas.core.frame.DataFrame'>\n",
      "Int64Index: 406 entries, 0 to 405\n",
      "Data columns (total 16 columns):\n",
      " #   Column             Non-Null Count  Dtype  \n",
      "---  ------             --------------  -----  \n",
      " 0   atomic_number      406 non-null    int64  \n",
      " 1   symbol             406 non-null    object \n",
      " 2   atomic_radius      328 non-null    float64\n",
      " 3   en_pauling         313 non-null    float64\n",
      " 4   block              406 non-null    object \n",
      " 5   vdw_radius_mm3     350 non-null    float64\n",
      " 6   mass               377 non-null    float64\n",
      " 7   abundance          288 non-null    float64\n",
      " 8   mass_number        406 non-null    int64  \n",
      " 9   mass_uncertainty   377 non-null    float64\n",
      " 10  is_radioactive     406 non-null    bool   \n",
      " 11  half_life          121 non-null    float64\n",
      " 12  half_life_unit     85 non-null     object \n",
      " 13  spin               323 non-null    float64\n",
      " 14  g_factor           323 non-null    float64\n",
      " 15  quadrupole_moment  320 non-null    float64\n",
      "dtypes: bool(1), float64(10), int64(2), object(3)\n",
      "memory usage: 51.1+ KB\n"
     ]
    }
   ],
   "source": [
    "merged.info()"
   ]
  },
  {
   "cell_type": "code",
   "execution_count": 12,
   "metadata": {
    "collapsed": false,
    "jupyter": {
     "outputs_hidden": false
    }
   },
   "outputs": [
    {
     "data": {
      "text/html": [
       "<div>\n",
       "<style scoped>\n",
       "    .dataframe tbody tr th:only-of-type {\n",
       "        vertical-align: middle;\n",
       "    }\n",
       "\n",
       "    .dataframe tbody tr th {\n",
       "        vertical-align: top;\n",
       "    }\n",
       "\n",
       "    .dataframe thead th {\n",
       "        text-align: right;\n",
       "    }\n",
       "</style>\n",
       "<table border=\"1\" class=\"dataframe\">\n",
       "  <thead>\n",
       "    <tr style=\"text-align: right;\">\n",
       "      <th></th>\n",
       "      <th>atomic_number</th>\n",
       "      <th>symbol</th>\n",
       "      <th>atomic_radius</th>\n",
       "      <th>en_pauling</th>\n",
       "      <th>block</th>\n",
       "      <th>vdw_radius_mm3</th>\n",
       "      <th>mass</th>\n",
       "      <th>abundance</th>\n",
       "      <th>mass_number</th>\n",
       "      <th>mass_uncertainty</th>\n",
       "      <th>is_radioactive</th>\n",
       "      <th>half_life</th>\n",
       "      <th>half_life_unit</th>\n",
       "      <th>spin</th>\n",
       "      <th>g_factor</th>\n",
       "      <th>quadrupole_moment</th>\n",
       "    </tr>\n",
       "  </thead>\n",
       "  <tbody>\n",
       "    <tr>\n",
       "      <th>0</th>\n",
       "      <td>1</td>\n",
       "      <td>H</td>\n",
       "      <td>25.0</td>\n",
       "      <td>2.2</td>\n",
       "      <td>s</td>\n",
       "      <td>162.0</td>\n",
       "      <td>1.007825</td>\n",
       "      <td>0.999720</td>\n",
       "      <td>1</td>\n",
       "      <td>6.000000e-10</td>\n",
       "      <td>False</td>\n",
       "      <td>NaN</td>\n",
       "      <td>None</td>\n",
       "      <td>0.5</td>\n",
       "      <td>5.585695</td>\n",
       "      <td>0.00000</td>\n",
       "    </tr>\n",
       "    <tr>\n",
       "      <th>1</th>\n",
       "      <td>1</td>\n",
       "      <td>H</td>\n",
       "      <td>25.0</td>\n",
       "      <td>2.2</td>\n",
       "      <td>s</td>\n",
       "      <td>162.0</td>\n",
       "      <td>2.014102</td>\n",
       "      <td>0.000280</td>\n",
       "      <td>2</td>\n",
       "      <td>8.000000e-10</td>\n",
       "      <td>False</td>\n",
       "      <td>NaN</td>\n",
       "      <td>None</td>\n",
       "      <td>1.0</td>\n",
       "      <td>0.857438</td>\n",
       "      <td>0.00286</td>\n",
       "    </tr>\n",
       "    <tr>\n",
       "      <th>2</th>\n",
       "      <td>1</td>\n",
       "      <td>H</td>\n",
       "      <td>25.0</td>\n",
       "      <td>2.2</td>\n",
       "      <td>s</td>\n",
       "      <td>162.0</td>\n",
       "      <td>NaN</td>\n",
       "      <td>NaN</td>\n",
       "      <td>3</td>\n",
       "      <td>NaN</td>\n",
       "      <td>True</td>\n",
       "      <td>NaN</td>\n",
       "      <td>None</td>\n",
       "      <td>0.5</td>\n",
       "      <td>5.957994</td>\n",
       "      <td>0.00000</td>\n",
       "    </tr>\n",
       "    <tr>\n",
       "      <th>3</th>\n",
       "      <td>2</td>\n",
       "      <td>He</td>\n",
       "      <td>120.0</td>\n",
       "      <td>NaN</td>\n",
       "      <td>s</td>\n",
       "      <td>153.0</td>\n",
       "      <td>3.016029</td>\n",
       "      <td>0.000002</td>\n",
       "      <td>3</td>\n",
       "      <td>2.000000e-08</td>\n",
       "      <td>False</td>\n",
       "      <td>NaN</td>\n",
       "      <td>None</td>\n",
       "      <td>0.5</td>\n",
       "      <td>-4.254995</td>\n",
       "      <td>0.00000</td>\n",
       "    </tr>\n",
       "    <tr>\n",
       "      <th>4</th>\n",
       "      <td>2</td>\n",
       "      <td>He</td>\n",
       "      <td>120.0</td>\n",
       "      <td>NaN</td>\n",
       "      <td>s</td>\n",
       "      <td>153.0</td>\n",
       "      <td>4.002603</td>\n",
       "      <td>0.999998</td>\n",
       "      <td>4</td>\n",
       "      <td>4.000000e-10</td>\n",
       "      <td>False</td>\n",
       "      <td>NaN</td>\n",
       "      <td>None</td>\n",
       "      <td>0.0</td>\n",
       "      <td>0.000000</td>\n",
       "      <td>0.00000</td>\n",
       "    </tr>\n",
       "  </tbody>\n",
       "</table>\n",
       "</div>"
      ],
      "text/plain": [
       "   atomic_number symbol  atomic_radius  en_pauling block  vdw_radius_mm3  \\\n",
       "0              1      H           25.0         2.2     s           162.0   \n",
       "1              1      H           25.0         2.2     s           162.0   \n",
       "2              1      H           25.0         2.2     s           162.0   \n",
       "3              2     He          120.0         NaN     s           153.0   \n",
       "4              2     He          120.0         NaN     s           153.0   \n",
       "\n",
       "       mass  abundance  mass_number  mass_uncertainty  is_radioactive  \\\n",
       "0  1.007825   0.999720            1      6.000000e-10           False   \n",
       "1  2.014102   0.000280            2      8.000000e-10           False   \n",
       "2       NaN        NaN            3               NaN            True   \n",
       "3  3.016029   0.000002            3      2.000000e-08           False   \n",
       "4  4.002603   0.999998            4      4.000000e-10           False   \n",
       "\n",
       "   half_life half_life_unit  spin  g_factor  quadrupole_moment  \n",
       "0        NaN           None   0.5  5.585695            0.00000  \n",
       "1        NaN           None   1.0  0.857438            0.00286  \n",
       "2        NaN           None   0.5  5.957994            0.00000  \n",
       "3        NaN           None   0.5 -4.254995            0.00000  \n",
       "4        NaN           None   0.0  0.000000            0.00000  "
      ]
     },
     "execution_count": 12,
     "metadata": {},
     "output_type": "execute_result"
    }
   ],
   "source": [
    "merged.head()"
   ]
  },
  {
   "cell_type": "markdown",
   "metadata": {},
   "source": [
    "To display all the isotopes of Silicon"
   ]
  },
  {
   "cell_type": "code",
   "execution_count": 13,
   "metadata": {
    "collapsed": false,
    "jupyter": {
     "outputs_hidden": false
    }
   },
   "outputs": [
    {
     "data": {
      "text/html": [
       "<div>\n",
       "<style scoped>\n",
       "    .dataframe tbody tr th:only-of-type {\n",
       "        vertical-align: middle;\n",
       "    }\n",
       "\n",
       "    .dataframe tbody tr th {\n",
       "        vertical-align: top;\n",
       "    }\n",
       "\n",
       "    .dataframe thead th {\n",
       "        text-align: right;\n",
       "    }\n",
       "</style>\n",
       "<table border=\"1\" class=\"dataframe\">\n",
       "  <thead>\n",
       "    <tr style=\"text-align: right;\">\n",
       "      <th></th>\n",
       "      <th>atomic_number</th>\n",
       "      <th>symbol</th>\n",
       "      <th>atomic_radius</th>\n",
       "      <th>en_pauling</th>\n",
       "      <th>block</th>\n",
       "      <th>vdw_radius_mm3</th>\n",
       "      <th>mass</th>\n",
       "      <th>abundance</th>\n",
       "      <th>mass_number</th>\n",
       "      <th>mass_uncertainty</th>\n",
       "      <th>is_radioactive</th>\n",
       "      <th>half_life</th>\n",
       "      <th>half_life_unit</th>\n",
       "      <th>spin</th>\n",
       "      <th>g_factor</th>\n",
       "      <th>quadrupole_moment</th>\n",
       "    </tr>\n",
       "  </thead>\n",
       "  <tbody>\n",
       "    <tr>\n",
       "      <th>28</th>\n",
       "      <td>14</td>\n",
       "      <td>Si</td>\n",
       "      <td>110.0</td>\n",
       "      <td>1.9</td>\n",
       "      <td>p</td>\n",
       "      <td>229.0</td>\n",
       "      <td>27.976927</td>\n",
       "      <td>0.92191</td>\n",
       "      <td>28</td>\n",
       "      <td>3.000000e-09</td>\n",
       "      <td>False</td>\n",
       "      <td>NaN</td>\n",
       "      <td>None</td>\n",
       "      <td>0.0</td>\n",
       "      <td>0.00000</td>\n",
       "      <td>0.0</td>\n",
       "    </tr>\n",
       "    <tr>\n",
       "      <th>29</th>\n",
       "      <td>14</td>\n",
       "      <td>Si</td>\n",
       "      <td>110.0</td>\n",
       "      <td>1.9</td>\n",
       "      <td>p</td>\n",
       "      <td>229.0</td>\n",
       "      <td>28.976495</td>\n",
       "      <td>0.04699</td>\n",
       "      <td>29</td>\n",
       "      <td>3.000000e-09</td>\n",
       "      <td>False</td>\n",
       "      <td>NaN</td>\n",
       "      <td>None</td>\n",
       "      <td>0.5</td>\n",
       "      <td>-1.11058</td>\n",
       "      <td>0.0</td>\n",
       "    </tr>\n",
       "    <tr>\n",
       "      <th>30</th>\n",
       "      <td>14</td>\n",
       "      <td>Si</td>\n",
       "      <td>110.0</td>\n",
       "      <td>1.9</td>\n",
       "      <td>p</td>\n",
       "      <td>229.0</td>\n",
       "      <td>29.973770</td>\n",
       "      <td>0.03110</td>\n",
       "      <td>30</td>\n",
       "      <td>2.000000e-08</td>\n",
       "      <td>False</td>\n",
       "      <td>NaN</td>\n",
       "      <td>None</td>\n",
       "      <td>0.0</td>\n",
       "      <td>0.00000</td>\n",
       "      <td>0.0</td>\n",
       "    </tr>\n",
       "  </tbody>\n",
       "</table>\n",
       "</div>"
      ],
      "text/plain": [
       "    atomic_number symbol  atomic_radius  en_pauling block  vdw_radius_mm3  \\\n",
       "28             14     Si          110.0         1.9     p           229.0   \n",
       "29             14     Si          110.0         1.9     p           229.0   \n",
       "30             14     Si          110.0         1.9     p           229.0   \n",
       "\n",
       "         mass  abundance  mass_number  mass_uncertainty  is_radioactive  \\\n",
       "28  27.976927    0.92191           28      3.000000e-09           False   \n",
       "29  28.976495    0.04699           29      3.000000e-09           False   \n",
       "30  29.973770    0.03110           30      2.000000e-08           False   \n",
       "\n",
       "    half_life half_life_unit  spin  g_factor  quadrupole_moment  \n",
       "28        NaN           None   0.0   0.00000                0.0  \n",
       "29        NaN           None   0.5  -1.11058                0.0  \n",
       "30        NaN           None   0.0   0.00000                0.0  "
      ]
     },
     "execution_count": 13,
     "metadata": {},
     "output_type": "execute_result"
    }
   ],
   "source": [
    "merged[merged['symbol'] == 'Si']"
   ]
  }
 ],
 "metadata": {
  "anaconda-cloud": {},
  "kernelspec": {
   "display_name": "Python 3",
   "language": "python",
   "name": "python3"
  },
  "language_info": {
   "codemirror_mode": {
    "name": "ipython",
    "version": 3
   },
   "file_extension": ".py",
   "mimetype": "text/x-python",
   "name": "python",
   "nbconvert_exporter": "python",
   "pygments_lexer": "ipython3",
   "version": "3.8.1"
  }
 },
 "nbformat": 4,
 "nbformat_minor": 4
}
