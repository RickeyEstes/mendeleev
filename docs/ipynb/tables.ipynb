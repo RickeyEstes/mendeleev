{
 "cells": [
  {
   "cell_type": "markdown",
   "metadata": {},
   "source": [
    "# Getting tables from the database\n",
    "\n",
    "This short tutorial explains how to retrieve full tables from the database into [pandas DataFrames](http://pandas.pydata.org/pandas-docs/stable/generated/pandas.DataFrame.html).\n",
    "\n",
    "## The following table are available from ``mendeleev``\n",
    "\n",
    "* elements\n",
    "* ionicradii\n",
    "* ionizationenergies\n",
    "* oxidationstates\n",
    "* groups\n",
    "* series\n",
    "* isotopes"
   ]
  },
  {
   "cell_type": "markdown",
   "metadata": {},
   "source": [
    "``mendeleev`` provides a convenient function `get_table` to perform the task at hand. The function can be directly imported from `mendeleev`"
   ]
  },
  {
   "cell_type": "code",
   "execution_count": 1,
   "metadata": {
    "collapsed": false
   },
   "outputs": [],
   "source": [
    "from mendeleev import get_table"
   ]
  },
  {
   "cell_type": "markdown",
   "metadata": {},
   "source": [
    "To retrieve a table call the ``get_table`` with the table name as argument. Here we'll get probably the most important table ``elements`` with basis data on each element"
   ]
  },
  {
   "cell_type": "code",
   "execution_count": 2,
   "metadata": {
    "collapsed": false
   },
   "outputs": [],
   "source": [
    "ptable = get_table('elements')"
   ]
  },
  {
   "cell_type": "markdown",
   "metadata": {},
   "source": [
    "Now we can use [pandas'](http://pandas.pydata.org) capabilities to work with the data. "
   ]
  },
  {
   "cell_type": "code",
   "execution_count": 3,
   "metadata": {
    "collapsed": false
   },
   "outputs": [
    {
     "name": "stdout",
     "output_type": "stream",
     "text": [
      "<class 'pandas.core.frame.DataFrame'>\n",
      "RangeIndex: 118 entries, 0 to 117\n",
      "Data columns (total 53 columns):\n",
      "annotation                   118 non-null object\n",
      "atomic_number                118 non-null int64\n",
      "atomic_radius                88 non-null float64\n",
      "atomic_volume                91 non-null float64\n",
      "block                        118 non-null object\n",
      "boiling_point                96 non-null float64\n",
      "density                      95 non-null float64\n",
      "description                  109 non-null object\n",
      "dipole_polarizability        106 non-null float64\n",
      "electron_affinity            77 non-null float64\n",
      "electronic_configuration     118 non-null object\n",
      "evaporation_heat             88 non-null float64\n",
      "fusion_heat                  75 non-null float64\n",
      "group_id                     90 non-null float64\n",
      "lattice_constant             87 non-null float64\n",
      "lattice_structure            91 non-null object\n",
      "melting_point                100 non-null float64\n",
      "name                         118 non-null object\n",
      "period                       118 non-null int64\n",
      "series_id                    118 non-null int64\n",
      "specific_heat                81 non-null float64\n",
      "symbol                       118 non-null object\n",
      "thermal_conductivity         66 non-null float64\n",
      "vdw_radius                   103 non-null float64\n",
      "covalent_radius_cordero      96 non-null float64\n",
      "covalent_radius_pyykko       118 non-null float64\n",
      "en_pauling                   85 non-null float64\n",
      "en_allen                     71 non-null float64\n",
      "jmol_color                   109 non-null object\n",
      "cpk_color                    103 non-null object\n",
      "proton_affinity              32 non-null float64\n",
      "gas_basicity                 32 non-null float64\n",
      "heat_of_formation            89 non-null float64\n",
      "c6                           43 non-null float64\n",
      "covalent_radius_bragg        37 non-null float64\n",
      "covalent_radius_slater       86 non-null float64\n",
      "vdw_radius_bondi             28 non-null float64\n",
      "vdw_radius_truhlar           16 non-null float64\n",
      "vdw_radius_rt                9 non-null float64\n",
      "vdw_radius_batsanov          65 non-null float64\n",
      "vdw_radius_dreiding          21 non-null float64\n",
      "vdw_radius_uff               103 non-null float64\n",
      "vdw_radius_mm3               94 non-null float64\n",
      "abundance_crust              88 non-null float64\n",
      "abundance_sea                81 non-null float64\n",
      "molcas_gv_color              103 non-null object\n",
      "en_ghosh                     103 non-null float64\n",
      "vdw_radius_alvarez           94 non-null float64\n",
      "c6_gb                        86 non-null float64\n",
      "atomic_weight                118 non-null float64\n",
      "atomic_weight_uncertainty    74 non-null float64\n",
      "is_monoisotopic              21 non-null object\n",
      "is_radioactive               118 non-null bool\n",
      "dtypes: bool(1), float64(38), int64(3), object(11)\n",
      "memory usage: 48.1+ KB\n"
     ]
    }
   ],
   "source": [
    "ptable.info()"
   ]
  },
  {
   "cell_type": "markdown",
   "metadata": {},
   "source": [
    "For clarity let's take only a subset of columns "
   ]
  },
  {
   "cell_type": "code",
   "execution_count": 4,
   "metadata": {
    "collapsed": true
   },
   "outputs": [],
   "source": [
    "cols = ['atomic_number', 'symbol', 'atomic_radius', 'en_pauling', 'block', 'vdw_radius_mm3']"
   ]
  },
  {
   "cell_type": "code",
   "execution_count": 5,
   "metadata": {
    "collapsed": false
   },
   "outputs": [
    {
     "data": {
      "text/html": [
       "<div>\n",
       "<table border=\"1\" class=\"dataframe\">\n",
       "  <thead>\n",
       "    <tr style=\"text-align: right;\">\n",
       "      <th></th>\n",
       "      <th>atomic_number</th>\n",
       "      <th>symbol</th>\n",
       "      <th>atomic_radius</th>\n",
       "      <th>en_pauling</th>\n",
       "      <th>block</th>\n",
       "      <th>vdw_radius_mm3</th>\n",
       "    </tr>\n",
       "  </thead>\n",
       "  <tbody>\n",
       "    <tr>\n",
       "      <th>0</th>\n",
       "      <td>1</td>\n",
       "      <td>H</td>\n",
       "      <td>79.0</td>\n",
       "      <td>2.20</td>\n",
       "      <td>s</td>\n",
       "      <td>162.0</td>\n",
       "    </tr>\n",
       "    <tr>\n",
       "      <th>1</th>\n",
       "      <td>2</td>\n",
       "      <td>He</td>\n",
       "      <td>NaN</td>\n",
       "      <td>NaN</td>\n",
       "      <td>s</td>\n",
       "      <td>153.0</td>\n",
       "    </tr>\n",
       "    <tr>\n",
       "      <th>2</th>\n",
       "      <td>3</td>\n",
       "      <td>Li</td>\n",
       "      <td>155.0</td>\n",
       "      <td>0.98</td>\n",
       "      <td>s</td>\n",
       "      <td>255.0</td>\n",
       "    </tr>\n",
       "    <tr>\n",
       "      <th>3</th>\n",
       "      <td>4</td>\n",
       "      <td>Be</td>\n",
       "      <td>112.0</td>\n",
       "      <td>1.57</td>\n",
       "      <td>s</td>\n",
       "      <td>223.0</td>\n",
       "    </tr>\n",
       "    <tr>\n",
       "      <th>4</th>\n",
       "      <td>5</td>\n",
       "      <td>B</td>\n",
       "      <td>98.0</td>\n",
       "      <td>2.04</td>\n",
       "      <td>p</td>\n",
       "      <td>215.0</td>\n",
       "    </tr>\n",
       "  </tbody>\n",
       "</table>\n",
       "</div>"
      ],
      "text/plain": [
       "   atomic_number symbol  atomic_radius  en_pauling block  vdw_radius_mm3\n",
       "0              1      H           79.0        2.20     s           162.0\n",
       "1              2     He            NaN         NaN     s           153.0\n",
       "2              3     Li          155.0        0.98     s           255.0\n",
       "3              4     Be          112.0        1.57     s           223.0\n",
       "4              5      B           98.0        2.04     p           215.0"
      ]
     },
     "execution_count": 5,
     "metadata": {},
     "output_type": "execute_result"
    }
   ],
   "source": [
    "ptable[cols].head()"
   ]
  },
  {
   "cell_type": "markdown",
   "metadata": {},
   "source": [
    "It is quite easy now to get descriptive statistics on the data."
   ]
  },
  {
   "cell_type": "code",
   "execution_count": 6,
   "metadata": {
    "collapsed": false
   },
   "outputs": [
    {
     "data": {
      "text/html": [
       "<div>\n",
       "<table border=\"1\" class=\"dataframe\">\n",
       "  <thead>\n",
       "    <tr style=\"text-align: right;\">\n",
       "      <th></th>\n",
       "      <th>atomic_number</th>\n",
       "      <th>atomic_radius</th>\n",
       "      <th>en_pauling</th>\n",
       "      <th>vdw_radius_mm3</th>\n",
       "    </tr>\n",
       "  </thead>\n",
       "  <tbody>\n",
       "    <tr>\n",
       "      <th>count</th>\n",
       "      <td>118.000000</td>\n",
       "      <td>88.000000</td>\n",
       "      <td>85.000000</td>\n",
       "      <td>94.000000</td>\n",
       "    </tr>\n",
       "    <tr>\n",
       "      <th>mean</th>\n",
       "      <td>59.500000</td>\n",
       "      <td>169.397727</td>\n",
       "      <td>1.748588</td>\n",
       "      <td>248.468085</td>\n",
       "    </tr>\n",
       "    <tr>\n",
       "      <th>std</th>\n",
       "      <td>34.207699</td>\n",
       "      <td>49.810108</td>\n",
       "      <td>0.634442</td>\n",
       "      <td>36.017828</td>\n",
       "    </tr>\n",
       "    <tr>\n",
       "      <th>min</th>\n",
       "      <td>1.000000</td>\n",
       "      <td>79.000000</td>\n",
       "      <td>0.700000</td>\n",
       "      <td>153.000000</td>\n",
       "    </tr>\n",
       "    <tr>\n",
       "      <th>25%</th>\n",
       "      <td>30.250000</td>\n",
       "      <td>137.000000</td>\n",
       "      <td>1.240000</td>\n",
       "      <td>229.000000</td>\n",
       "    </tr>\n",
       "    <tr>\n",
       "      <th>50%</th>\n",
       "      <td>59.500000</td>\n",
       "      <td>160.000000</td>\n",
       "      <td>1.700000</td>\n",
       "      <td>244.000000</td>\n",
       "    </tr>\n",
       "    <tr>\n",
       "      <th>75%</th>\n",
       "      <td>88.750000</td>\n",
       "      <td>181.000000</td>\n",
       "      <td>2.160000</td>\n",
       "      <td>269.250000</td>\n",
       "    </tr>\n",
       "    <tr>\n",
       "      <th>max</th>\n",
       "      <td>118.000000</td>\n",
       "      <td>299.000000</td>\n",
       "      <td>3.980000</td>\n",
       "      <td>364.000000</td>\n",
       "    </tr>\n",
       "  </tbody>\n",
       "</table>\n",
       "</div>"
      ],
      "text/plain": [
       "       atomic_number  atomic_radius  en_pauling  vdw_radius_mm3\n",
       "count     118.000000      88.000000   85.000000       94.000000\n",
       "mean       59.500000     169.397727    1.748588      248.468085\n",
       "std        34.207699      49.810108    0.634442       36.017828\n",
       "min         1.000000      79.000000    0.700000      153.000000\n",
       "25%        30.250000     137.000000    1.240000      229.000000\n",
       "50%        59.500000     160.000000    1.700000      244.000000\n",
       "75%        88.750000     181.000000    2.160000      269.250000\n",
       "max       118.000000     299.000000    3.980000      364.000000"
      ]
     },
     "execution_count": 6,
     "metadata": {},
     "output_type": "execute_result"
    }
   ],
   "source": [
    "ptable[cols].describe()"
   ]
  },
  {
   "cell_type": "markdown",
   "metadata": {},
   "source": [
    "## Isotopes table\n",
    "\n",
    "Let try and retrieve another table, namely ``isotopes``"
   ]
  },
  {
   "cell_type": "code",
   "execution_count": 7,
   "metadata": {
    "collapsed": false
   },
   "outputs": [],
   "source": [
    "isotopes = get_table('isotopes', index_col='id')"
   ]
  },
  {
   "cell_type": "code",
   "execution_count": 8,
   "metadata": {
    "collapsed": false
   },
   "outputs": [
    {
     "name": "stdout",
     "output_type": "stream",
     "text": [
      "<class 'pandas.core.frame.DataFrame'>\n",
      "Int64Index: 377 entries, 1 to 377\n",
      "Data columns (total 8 columns):\n",
      "atomic_number       377 non-null int64\n",
      "mass                377 non-null float64\n",
      "abundance           288 non-null float64\n",
      "mass_number         377 non-null int64\n",
      "mass_uncertainty    377 non-null float64\n",
      "is_radioactive      377 non-null bool\n",
      "half_life           121 non-null float64\n",
      "half_life_unit      85 non-null object\n",
      "dtypes: bool(1), float64(4), int64(2), object(1)\n",
      "memory usage: 23.9+ KB\n"
     ]
    }
   ],
   "source": [
    "isotopes.info()"
   ]
  },
  {
   "cell_type": "markdown",
   "metadata": {},
   "source": [
    "### Merge the elements table with the isotopes\n",
    "\n",
    "We can now perform SQL-like merge operation on two ``DataFrame``s and produce an [outer](http://pandas.pydata.org/pandas-docs/stable/merging.html#database-style-dataframe-joining-merging) join "
   ]
  },
  {
   "cell_type": "code",
   "execution_count": 9,
   "metadata": {
    "collapsed": true
   },
   "outputs": [],
   "source": [
    "import pandas as pd"
   ]
  },
  {
   "cell_type": "code",
   "execution_count": 10,
   "metadata": {
    "collapsed": false
   },
   "outputs": [],
   "source": [
    "merged = pd.merge(ptable[cols], isotopes, how='outer', on='atomic_number')"
   ]
  },
  {
   "cell_type": "markdown",
   "metadata": {},
   "source": [
    "now we have the following columns in the ``merged`` ``DataFrame``"
   ]
  },
  {
   "cell_type": "code",
   "execution_count": 11,
   "metadata": {
    "collapsed": false
   },
   "outputs": [
    {
     "name": "stdout",
     "output_type": "stream",
     "text": [
      "<class 'pandas.core.frame.DataFrame'>\n",
      "Int64Index: 377 entries, 0 to 376\n",
      "Data columns (total 13 columns):\n",
      "atomic_number       377 non-null int64\n",
      "symbol              377 non-null object\n",
      "atomic_radius       300 non-null float64\n",
      "en_pauling          291 non-null float64\n",
      "block               377 non-null object\n",
      "vdw_radius_mm3      321 non-null float64\n",
      "mass                377 non-null float64\n",
      "abundance           288 non-null float64\n",
      "mass_number         377 non-null int64\n",
      "mass_uncertainty    377 non-null float64\n",
      "is_radioactive      377 non-null bool\n",
      "half_life           121 non-null float64\n",
      "half_life_unit      85 non-null object\n",
      "dtypes: bool(1), float64(7), int64(2), object(3)\n",
      "memory usage: 38.7+ KB\n"
     ]
    }
   ],
   "source": [
    "merged.info()"
   ]
  },
  {
   "cell_type": "code",
   "execution_count": 12,
   "metadata": {
    "collapsed": false
   },
   "outputs": [
    {
     "data": {
      "text/html": [
       "<div>\n",
       "<table border=\"1\" class=\"dataframe\">\n",
       "  <thead>\n",
       "    <tr style=\"text-align: right;\">\n",
       "      <th></th>\n",
       "      <th>atomic_number</th>\n",
       "      <th>symbol</th>\n",
       "      <th>atomic_radius</th>\n",
       "      <th>en_pauling</th>\n",
       "      <th>block</th>\n",
       "      <th>vdw_radius_mm3</th>\n",
       "      <th>mass</th>\n",
       "      <th>abundance</th>\n",
       "      <th>mass_number</th>\n",
       "      <th>mass_uncertainty</th>\n",
       "      <th>is_radioactive</th>\n",
       "      <th>half_life</th>\n",
       "      <th>half_life_unit</th>\n",
       "    </tr>\n",
       "  </thead>\n",
       "  <tbody>\n",
       "    <tr>\n",
       "      <th>0</th>\n",
       "      <td>1</td>\n",
       "      <td>H</td>\n",
       "      <td>79.0</td>\n",
       "      <td>2.20</td>\n",
       "      <td>s</td>\n",
       "      <td>162.0</td>\n",
       "      <td>1.007825</td>\n",
       "      <td>0.999720</td>\n",
       "      <td>1</td>\n",
       "      <td>6.000000e-10</td>\n",
       "      <td>False</td>\n",
       "      <td>NaN</td>\n",
       "      <td>None</td>\n",
       "    </tr>\n",
       "    <tr>\n",
       "      <th>1</th>\n",
       "      <td>1</td>\n",
       "      <td>H</td>\n",
       "      <td>79.0</td>\n",
       "      <td>2.20</td>\n",
       "      <td>s</td>\n",
       "      <td>162.0</td>\n",
       "      <td>2.014102</td>\n",
       "      <td>0.000280</td>\n",
       "      <td>2</td>\n",
       "      <td>8.000000e-10</td>\n",
       "      <td>False</td>\n",
       "      <td>NaN</td>\n",
       "      <td>None</td>\n",
       "    </tr>\n",
       "    <tr>\n",
       "      <th>2</th>\n",
       "      <td>2</td>\n",
       "      <td>He</td>\n",
       "      <td>NaN</td>\n",
       "      <td>NaN</td>\n",
       "      <td>s</td>\n",
       "      <td>153.0</td>\n",
       "      <td>3.016029</td>\n",
       "      <td>0.000002</td>\n",
       "      <td>3</td>\n",
       "      <td>2.000000e-08</td>\n",
       "      <td>False</td>\n",
       "      <td>NaN</td>\n",
       "      <td>None</td>\n",
       "    </tr>\n",
       "    <tr>\n",
       "      <th>3</th>\n",
       "      <td>2</td>\n",
       "      <td>He</td>\n",
       "      <td>NaN</td>\n",
       "      <td>NaN</td>\n",
       "      <td>s</td>\n",
       "      <td>153.0</td>\n",
       "      <td>4.002603</td>\n",
       "      <td>0.999998</td>\n",
       "      <td>4</td>\n",
       "      <td>4.000000e-10</td>\n",
       "      <td>False</td>\n",
       "      <td>NaN</td>\n",
       "      <td>None</td>\n",
       "    </tr>\n",
       "    <tr>\n",
       "      <th>4</th>\n",
       "      <td>3</td>\n",
       "      <td>Li</td>\n",
       "      <td>155.0</td>\n",
       "      <td>0.98</td>\n",
       "      <td>s</td>\n",
       "      <td>255.0</td>\n",
       "      <td>6.015123</td>\n",
       "      <td>0.078000</td>\n",
       "      <td>6</td>\n",
       "      <td>9.000000e-09</td>\n",
       "      <td>False</td>\n",
       "      <td>NaN</td>\n",
       "      <td>None</td>\n",
       "    </tr>\n",
       "  </tbody>\n",
       "</table>\n",
       "</div>"
      ],
      "text/plain": [
       "   atomic_number symbol  atomic_radius  en_pauling block  vdw_radius_mm3  \\\n",
       "0              1      H           79.0        2.20     s           162.0   \n",
       "1              1      H           79.0        2.20     s           162.0   \n",
       "2              2     He            NaN         NaN     s           153.0   \n",
       "3              2     He            NaN         NaN     s           153.0   \n",
       "4              3     Li          155.0        0.98     s           255.0   \n",
       "\n",
       "       mass  abundance  mass_number  mass_uncertainty is_radioactive  \\\n",
       "0  1.007825   0.999720            1      6.000000e-10          False   \n",
       "1  2.014102   0.000280            2      8.000000e-10          False   \n",
       "2  3.016029   0.000002            3      2.000000e-08          False   \n",
       "3  4.002603   0.999998            4      4.000000e-10          False   \n",
       "4  6.015123   0.078000            6      9.000000e-09          False   \n",
       "\n",
       "   half_life half_life_unit  \n",
       "0        NaN           None  \n",
       "1        NaN           None  \n",
       "2        NaN           None  \n",
       "3        NaN           None  \n",
       "4        NaN           None  "
      ]
     },
     "execution_count": 12,
     "metadata": {},
     "output_type": "execute_result"
    }
   ],
   "source": [
    "merged.head()"
   ]
  },
  {
   "cell_type": "markdown",
   "metadata": {},
   "source": [
    "To display all the isotopes of Silicon"
   ]
  },
  {
   "cell_type": "code",
   "execution_count": 13,
   "metadata": {
    "collapsed": false
   },
   "outputs": [
    {
     "data": {
      "text/html": [
       "<div>\n",
       "<table border=\"1\" class=\"dataframe\">\n",
       "  <thead>\n",
       "    <tr style=\"text-align: right;\">\n",
       "      <th></th>\n",
       "      <th>atomic_number</th>\n",
       "      <th>symbol</th>\n",
       "      <th>atomic_radius</th>\n",
       "      <th>en_pauling</th>\n",
       "      <th>block</th>\n",
       "      <th>vdw_radius_mm3</th>\n",
       "      <th>mass</th>\n",
       "      <th>abundance</th>\n",
       "      <th>mass_number</th>\n",
       "      <th>mass_uncertainty</th>\n",
       "      <th>is_radioactive</th>\n",
       "      <th>half_life</th>\n",
       "      <th>half_life_unit</th>\n",
       "    </tr>\n",
       "  </thead>\n",
       "  <tbody>\n",
       "    <tr>\n",
       "      <th>25</th>\n",
       "      <td>14</td>\n",
       "      <td>Si</td>\n",
       "      <td>132.0</td>\n",
       "      <td>1.9</td>\n",
       "      <td>p</td>\n",
       "      <td>229.0</td>\n",
       "      <td>27.976927</td>\n",
       "      <td>0.92191</td>\n",
       "      <td>28</td>\n",
       "      <td>3.000000e-09</td>\n",
       "      <td>False</td>\n",
       "      <td>NaN</td>\n",
       "      <td>None</td>\n",
       "    </tr>\n",
       "    <tr>\n",
       "      <th>26</th>\n",
       "      <td>14</td>\n",
       "      <td>Si</td>\n",
       "      <td>132.0</td>\n",
       "      <td>1.9</td>\n",
       "      <td>p</td>\n",
       "      <td>229.0</td>\n",
       "      <td>28.976495</td>\n",
       "      <td>0.04699</td>\n",
       "      <td>29</td>\n",
       "      <td>3.000000e-09</td>\n",
       "      <td>False</td>\n",
       "      <td>NaN</td>\n",
       "      <td>None</td>\n",
       "    </tr>\n",
       "    <tr>\n",
       "      <th>27</th>\n",
       "      <td>14</td>\n",
       "      <td>Si</td>\n",
       "      <td>132.0</td>\n",
       "      <td>1.9</td>\n",
       "      <td>p</td>\n",
       "      <td>229.0</td>\n",
       "      <td>29.973770</td>\n",
       "      <td>0.03110</td>\n",
       "      <td>30</td>\n",
       "      <td>2.000000e-08</td>\n",
       "      <td>False</td>\n",
       "      <td>NaN</td>\n",
       "      <td>None</td>\n",
       "    </tr>\n",
       "  </tbody>\n",
       "</table>\n",
       "</div>"
      ],
      "text/plain": [
       "    atomic_number symbol  atomic_radius  en_pauling block  vdw_radius_mm3  \\\n",
       "25             14     Si          132.0         1.9     p           229.0   \n",
       "26             14     Si          132.0         1.9     p           229.0   \n",
       "27             14     Si          132.0         1.9     p           229.0   \n",
       "\n",
       "         mass  abundance  mass_number  mass_uncertainty is_radioactive  \\\n",
       "25  27.976927    0.92191           28      3.000000e-09          False   \n",
       "26  28.976495    0.04699           29      3.000000e-09          False   \n",
       "27  29.973770    0.03110           30      2.000000e-08          False   \n",
       "\n",
       "    half_life half_life_unit  \n",
       "25        NaN           None  \n",
       "26        NaN           None  \n",
       "27        NaN           None  "
      ]
     },
     "execution_count": 13,
     "metadata": {},
     "output_type": "execute_result"
    }
   ],
   "source": [
    "merged[merged['symbol'] == 'Si']"
   ]
  },
  {
   "cell_type": "code",
   "execution_count": 14,
   "metadata": {
    "collapsed": false
   },
   "outputs": [
    {
     "data": {
      "application/json": {
       "Software versions": [
        {
         "module": "Python",
         "version": "3.5.2 64bit [GCC 4.4.7 20120313 (Red Hat 4.4.7-1)]"
        },
        {
         "module": "IPython",
         "version": "5.1.0"
        },
        {
         "module": "OS",
         "version": "Linux 3.16.0 4 amd64 x86_64 with debian 8.6"
        },
        {
         "module": "mendeleev",
         "version": "0.2.17"
        },
        {
         "module": "numpy",
         "version": "1.11.2"
        },
        {
         "module": "scipy",
         "version": "0.18.1"
        },
        {
         "module": "pandas",
         "version": "0.19.2+0.g825876c.dirty"
        }
       ]
      },
      "text/html": [
       "<table><tr><th>Software</th><th>Version</th></tr><tr><td>Python</td><td>3.5.2 64bit [GCC 4.4.7 20120313 (Red Hat 4.4.7-1)]</td></tr><tr><td>IPython</td><td>5.1.0</td></tr><tr><td>OS</td><td>Linux 3.16.0 4 amd64 x86_64 with debian 8.6</td></tr><tr><td>mendeleev</td><td>0.2.17</td></tr><tr><td>numpy</td><td>1.11.2</td></tr><tr><td>scipy</td><td>0.18.1</td></tr><tr><td>pandas</td><td>0.19.2+0.g825876c.dirty</td></tr><tr><td colspan='2'>Mon Jan 09 00:31:50 2017 CET</td></tr></table>"
      ],
      "text/latex": [
       "\\begin{tabular}{|l|l|}\\hline\n",
       "{\\bf Software} & {\\bf Version} \\\\ \\hline\\hline\n",
       "Python & 3.5.2 64bit [GCC 4.4.7 20120313 (Red Hat 4.4.7-1)] \\\\ \\hline\n",
       "IPython & 5.1.0 \\\\ \\hline\n",
       "OS & Linux 3.16.0 4 amd64 x86\\_64 with debian 8.6 \\\\ \\hline\n",
       "mendeleev & 0.2.17 \\\\ \\hline\n",
       "numpy & 1.11.2 \\\\ \\hline\n",
       "scipy & 0.18.1 \\\\ \\hline\n",
       "pandas & 0.19.2+0.g825876c.dirty \\\\ \\hline\n",
       "\\hline \\multicolumn{2}{|l|}{Mon Jan 09 00:31:50 2017 CET} \\\\ \\hline\n",
       "\\end{tabular}\n"
      ],
      "text/plain": [
       "Software versions\n",
       "Python 3.5.2 64bit [GCC 4.4.7 20120313 (Red Hat 4.4.7-1)]\n",
       "IPython 5.1.0\n",
       "OS Linux 3.16.0 4 amd64 x86_64 with debian 8.6\n",
       "mendeleev 0.2.17\n",
       "numpy 1.11.2\n",
       "scipy 0.18.1\n",
       "pandas 0.19.2+0.g825876c.dirty\n",
       "Mon Jan 09 00:31:50 2017 CET"
      ]
     },
     "execution_count": 14,
     "metadata": {},
     "output_type": "execute_result"
    }
   ],
   "source": [
    "%version_information mendeleev, numpy, scipy, pandas"
   ]
  }
 ],
 "metadata": {
  "anaconda-cloud": {},
  "kernelspec": {
   "display_name": "Python [default]",
   "language": "python",
   "name": "python3"
  },
  "language_info": {
   "codemirror_mode": {
    "name": "ipython",
    "version": 3
   },
   "file_extension": ".py",
   "mimetype": "text/x-python",
   "name": "python",
   "nbconvert_exporter": "python",
   "pygments_lexer": "ipython3",
   "version": "3.5.2"
  }
 },
 "nbformat": 4,
 "nbformat_minor": 0
}
