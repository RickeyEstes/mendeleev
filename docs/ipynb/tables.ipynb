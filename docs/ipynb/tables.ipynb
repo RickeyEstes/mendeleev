{
 "cells": [
  {
   "cell_type": "markdown",
   "metadata": {},
   "source": [
    "# Getting tables from the database\n",
    "\n",
    "This short tutorial explains how to retrieve full tables from the database into [pandas DataFrames](http://pandas.pydata.org/pandas-docs/stable/generated/pandas.DataFrame.html).\n",
    "\n",
    "## The following table are available from ``mendeleev``\n",
    "\n",
    "* elements\n",
    "* ionicradii\n",
    "* ionizationenergies\n",
    "* oxidationstates\n",
    "* groups\n",
    "* series\n",
    "* isotopes"
   ]
  },
  {
   "cell_type": "markdown",
   "metadata": {},
   "source": [
    "``mendeleev`` provides a convenient function `get_table` to perform the task at hand. The function can be directly imported from `mendeleev`"
   ]
  },
  {
   "cell_type": "code",
   "execution_count": 2,
   "metadata": {
    "collapsed": false
   },
   "outputs": [],
   "source": [
    "from mendeleev import get_table"
   ]
  },
  {
   "cell_type": "markdown",
   "metadata": {},
   "source": [
    "To retrieve a table call the ``get_table`` with the table name as argument. Here we'll get probably the most important table ``elements`` with basis data on each element"
   ]
  },
  {
   "cell_type": "code",
   "execution_count": 3,
   "metadata": {
    "collapsed": false
   },
   "outputs": [],
   "source": [
    "ptable = get_table('elements')"
   ]
  },
  {
   "cell_type": "markdown",
   "metadata": {},
   "source": [
    "Now we can use [pandas'](http://pandas.pydata.org) capabilities to work with the data. "
   ]
  },
  {
   "cell_type": "code",
   "execution_count": 4,
   "metadata": {
    "collapsed": false
   },
   "outputs": [
    {
     "name": "stdout",
     "output_type": "stream",
     "text": [
      "<class 'pandas.core.frame.DataFrame'>\n",
      "Int64Index: 118 entries, 0 to 117\n",
      "Data columns (total 46 columns):\n",
      "annotation                  118 non-null object\n",
      "atomic_number               118 non-null int64\n",
      "atomic_radius               88 non-null float64\n",
      "atomic_volume               91 non-null float64\n",
      "block                       118 non-null object\n",
      "boiling_point               96 non-null float64\n",
      "density                     95 non-null float64\n",
      "description                 109 non-null object\n",
      "dipole_polarizability       106 non-null float64\n",
      "electron_affinity           77 non-null float64\n",
      "electronic_configuration    118 non-null object\n",
      "evaporation_heat            88 non-null float64\n",
      "fusion_heat                 75 non-null float64\n",
      "group_id                    90 non-null float64\n",
      "lattice_constant            87 non-null float64\n",
      "lattice_structure           91 non-null object\n",
      "mass                        113 non-null float64\n",
      "melting_point               100 non-null float64\n",
      "name                        118 non-null object\n",
      "period                      118 non-null int64\n",
      "series_id                   118 non-null int64\n",
      "specific_heat               81 non-null float64\n",
      "symbol                      118 non-null object\n",
      "thermal_conductivity        66 non-null float64\n",
      "vdw_radius                  103 non-null float64\n",
      "covalent_radius_cordero     96 non-null float64\n",
      "covalent_radius_pyykko      118 non-null float64\n",
      "en_pauling                  85 non-null float64\n",
      "en_allen                    71 non-null float64\n",
      "jmol_color                  109 non-null object\n",
      "cpk_color                   103 non-null object\n",
      "proton_affinity             32 non-null float64\n",
      "gas_basicity                32 non-null float64\n",
      "heat_of_formation           89 non-null float64\n",
      "c6                          43 non-null float64\n",
      "covalent_radius_bragg       37 non-null float64\n",
      "covalent_radius_slater      86 non-null float64\n",
      "vdw_radius_bondi            28 non-null float64\n",
      "vdw_radius_truhlar          16 non-null float64\n",
      "vdw_radius_rt               9 non-null float64\n",
      "vdw_radius_batsanov         65 non-null float64\n",
      "vdw_radius_dreiding         21 non-null float64\n",
      "vdw_radius_uff              103 non-null float64\n",
      "vdw_radius_mm3              94 non-null float64\n",
      "abundance_crust             88 non-null float64\n",
      "abundance_sea               81 non-null float64\n",
      "dtypes: float64(34), int64(3), object(9)\n",
      "memory usage: 43.3+ KB\n"
     ]
    }
   ],
   "source": [
    "ptable.info()"
   ]
  },
  {
   "cell_type": "markdown",
   "metadata": {},
   "source": [
    "For clarity let's take only a subset of columns "
   ]
  },
  {
   "cell_type": "code",
   "execution_count": 5,
   "metadata": {
    "collapsed": true
   },
   "outputs": [],
   "source": [
    "cols = ['atomic_number', 'symbol', 'atomic_radius', 'en_pauling', 'mass', 'block', 'vdw_radius_mm3']"
   ]
  },
  {
   "cell_type": "code",
   "execution_count": 6,
   "metadata": {
    "collapsed": false
   },
   "outputs": [
    {
     "data": {
      "text/html": [
       "<div>\n",
       "<table border=\"1\" class=\"dataframe\">\n",
       "  <thead>\n",
       "    <tr style=\"text-align: right;\">\n",
       "      <th></th>\n",
       "      <th>atomic_number</th>\n",
       "      <th>symbol</th>\n",
       "      <th>atomic_radius</th>\n",
       "      <th>en_pauling</th>\n",
       "      <th>mass</th>\n",
       "      <th>block</th>\n",
       "      <th>vdw_radius_mm3</th>\n",
       "    </tr>\n",
       "  </thead>\n",
       "  <tbody>\n",
       "    <tr>\n",
       "      <th>0</th>\n",
       "      <td>1</td>\n",
       "      <td>H</td>\n",
       "      <td>79</td>\n",
       "      <td>2.20</td>\n",
       "      <td>1.007940</td>\n",
       "      <td>s</td>\n",
       "      <td>162</td>\n",
       "    </tr>\n",
       "    <tr>\n",
       "      <th>1</th>\n",
       "      <td>2</td>\n",
       "      <td>He</td>\n",
       "      <td>NaN</td>\n",
       "      <td>NaN</td>\n",
       "      <td>4.002602</td>\n",
       "      <td>s</td>\n",
       "      <td>153</td>\n",
       "    </tr>\n",
       "    <tr>\n",
       "      <th>2</th>\n",
       "      <td>3</td>\n",
       "      <td>Li</td>\n",
       "      <td>155</td>\n",
       "      <td>0.98</td>\n",
       "      <td>6.941000</td>\n",
       "      <td>s</td>\n",
       "      <td>255</td>\n",
       "    </tr>\n",
       "    <tr>\n",
       "      <th>3</th>\n",
       "      <td>4</td>\n",
       "      <td>Be</td>\n",
       "      <td>112</td>\n",
       "      <td>1.57</td>\n",
       "      <td>9.012180</td>\n",
       "      <td>s</td>\n",
       "      <td>223</td>\n",
       "    </tr>\n",
       "    <tr>\n",
       "      <th>4</th>\n",
       "      <td>5</td>\n",
       "      <td>B</td>\n",
       "      <td>98</td>\n",
       "      <td>2.04</td>\n",
       "      <td>10.811000</td>\n",
       "      <td>p</td>\n",
       "      <td>215</td>\n",
       "    </tr>\n",
       "  </tbody>\n",
       "</table>\n",
       "</div>"
      ],
      "text/plain": [
       "   atomic_number symbol  atomic_radius  en_pauling       mass block  \\\n",
       "0              1      H             79        2.20   1.007940     s   \n",
       "1              2     He            NaN         NaN   4.002602     s   \n",
       "2              3     Li            155        0.98   6.941000     s   \n",
       "3              4     Be            112        1.57   9.012180     s   \n",
       "4              5      B             98        2.04  10.811000     p   \n",
       "\n",
       "   vdw_radius_mm3  \n",
       "0             162  \n",
       "1             153  \n",
       "2             255  \n",
       "3             223  \n",
       "4             215  "
      ]
     },
     "execution_count": 6,
     "metadata": {},
     "output_type": "execute_result"
    }
   ],
   "source": [
    "ptable[cols].head()"
   ]
  },
  {
   "cell_type": "markdown",
   "metadata": {},
   "source": [
    "It is quite easy now to get descriptive statistics on the data."
   ]
  },
  {
   "cell_type": "code",
   "execution_count": 7,
   "metadata": {
    "collapsed": false
   },
   "outputs": [
    {
     "data": {
      "text/html": [
       "<div>\n",
       "<table border=\"1\" class=\"dataframe\">\n",
       "  <thead>\n",
       "    <tr style=\"text-align: right;\">\n",
       "      <th></th>\n",
       "      <th>atomic_number</th>\n",
       "      <th>atomic_radius</th>\n",
       "      <th>en_pauling</th>\n",
       "      <th>mass</th>\n",
       "      <th>vdw_radius_mm3</th>\n",
       "    </tr>\n",
       "  </thead>\n",
       "  <tbody>\n",
       "    <tr>\n",
       "      <th>count</th>\n",
       "      <td>118.000000</td>\n",
       "      <td>88.000000</td>\n",
       "      <td>85.000000</td>\n",
       "      <td>113.000000</td>\n",
       "      <td>94.000000</td>\n",
       "    </tr>\n",
       "    <tr>\n",
       "      <th>mean</th>\n",
       "      <td>59.500000</td>\n",
       "      <td>169.397727</td>\n",
       "      <td>1.748588</td>\n",
       "      <td>139.516306</td>\n",
       "      <td>248.468085</td>\n",
       "    </tr>\n",
       "    <tr>\n",
       "      <th>std</th>\n",
       "      <td>34.207699</td>\n",
       "      <td>49.810108</td>\n",
       "      <td>0.634442</td>\n",
       "      <td>85.270136</td>\n",
       "      <td>36.017828</td>\n",
       "    </tr>\n",
       "    <tr>\n",
       "      <th>min</th>\n",
       "      <td>1.000000</td>\n",
       "      <td>79.000000</td>\n",
       "      <td>0.700000</td>\n",
       "      <td>1.007940</td>\n",
       "      <td>153.000000</td>\n",
       "    </tr>\n",
       "    <tr>\n",
       "      <th>25%</th>\n",
       "      <td>30.250000</td>\n",
       "      <td>137.000000</td>\n",
       "      <td>1.240000</td>\n",
       "      <td>63.546000</td>\n",
       "      <td>229.000000</td>\n",
       "    </tr>\n",
       "    <tr>\n",
       "      <th>50%</th>\n",
       "      <td>59.500000</td>\n",
       "      <td>160.000000</td>\n",
       "      <td>1.700000</td>\n",
       "      <td>138.905500</td>\n",
       "      <td>244.000000</td>\n",
       "    </tr>\n",
       "    <tr>\n",
       "      <th>75%</th>\n",
       "      <td>88.750000</td>\n",
       "      <td>181.000000</td>\n",
       "      <td>2.160000</td>\n",
       "      <td>209.987100</td>\n",
       "      <td>269.250000</td>\n",
       "    </tr>\n",
       "    <tr>\n",
       "      <th>max</th>\n",
       "      <td>118.000000</td>\n",
       "      <td>299.000000</td>\n",
       "      <td>3.980000</td>\n",
       "      <td>289.000000</td>\n",
       "      <td>364.000000</td>\n",
       "    </tr>\n",
       "  </tbody>\n",
       "</table>\n",
       "</div>"
      ],
      "text/plain": [
       "       atomic_number  atomic_radius  en_pauling        mass  vdw_radius_mm3\n",
       "count     118.000000      88.000000   85.000000  113.000000       94.000000\n",
       "mean       59.500000     169.397727    1.748588  139.516306      248.468085\n",
       "std        34.207699      49.810108    0.634442   85.270136       36.017828\n",
       "min         1.000000      79.000000    0.700000    1.007940      153.000000\n",
       "25%        30.250000     137.000000    1.240000   63.546000      229.000000\n",
       "50%        59.500000     160.000000    1.700000  138.905500      244.000000\n",
       "75%        88.750000     181.000000    2.160000  209.987100      269.250000\n",
       "max       118.000000     299.000000    3.980000  289.000000      364.000000"
      ]
     },
     "execution_count": 7,
     "metadata": {},
     "output_type": "execute_result"
    }
   ],
   "source": [
    "ptable[cols].describe()"
   ]
  },
  {
   "cell_type": "markdown",
   "metadata": {},
   "source": [
    "## Isotopes table\n",
    "\n",
    "Let try and retrieve another table, namely ``isotopes``"
   ]
  },
  {
   "cell_type": "code",
   "execution_count": 8,
   "metadata": {
    "collapsed": false
   },
   "outputs": [],
   "source": [
    "isotopes = get_table('isotopes', index_col='id')"
   ]
  },
  {
   "cell_type": "code",
   "execution_count": 9,
   "metadata": {
    "collapsed": false
   },
   "outputs": [
    {
     "name": "stdout",
     "output_type": "stream",
     "text": [
      "<class 'pandas.core.frame.DataFrame'>\n",
      "Int64Index: 313 entries, 1 to 313\n",
      "Data columns (total 4 columns):\n",
      "atomic_number    313 non-null int64\n",
      "mass             313 non-null float64\n",
      "abundance        313 non-null float64\n",
      "mass_number      313 non-null int64\n",
      "dtypes: float64(2), int64(2)\n",
      "memory usage: 12.2 KB\n"
     ]
    }
   ],
   "source": [
    "isotopes.info()"
   ]
  },
  {
   "cell_type": "markdown",
   "metadata": {},
   "source": [
    "### Merge the elements table with the isotopes\n",
    "\n",
    "We can now perform SQL-like merge operation on two ``DataFrame``s and produce an [outer](http://pandas.pydata.org/pandas-docs/stable/merging.html#database-style-dataframe-joining-merging) join "
   ]
  },
  {
   "cell_type": "code",
   "execution_count": 10,
   "metadata": {
    "collapsed": true
   },
   "outputs": [],
   "source": [
    "import pandas as pd"
   ]
  },
  {
   "cell_type": "code",
   "execution_count": 11,
   "metadata": {
    "collapsed": false
   },
   "outputs": [],
   "source": [
    "merged = pd.merge(ptable[cols], isotopes, how='outer', on='atomic_number')"
   ]
  },
  {
   "cell_type": "markdown",
   "metadata": {},
   "source": [
    "now we have the following columns in the ``merged`` ``DataFrame``"
   ]
  },
  {
   "cell_type": "code",
   "execution_count": 12,
   "metadata": {
    "collapsed": false
   },
   "outputs": [
    {
     "name": "stdout",
     "output_type": "stream",
     "text": [
      "<class 'pandas.core.frame.DataFrame'>\n",
      "Int64Index: 322 entries, 0 to 321\n",
      "Data columns (total 10 columns):\n",
      "atomic_number     322 non-null int64\n",
      "symbol            322 non-null object\n",
      "atomic_radius     270 non-null float64\n",
      "en_pauling        272 non-null float64\n",
      "mass_x            317 non-null float64\n",
      "block             322 non-null object\n",
      "vdw_radius_mm3    298 non-null float64\n",
      "mass_y            313 non-null float64\n",
      "abundance         313 non-null float64\n",
      "mass_number       313 non-null float64\n",
      "dtypes: float64(7), int64(1), object(2)\n",
      "memory usage: 27.7+ KB\n"
     ]
    }
   ],
   "source": [
    "merged.info()"
   ]
  },
  {
   "cell_type": "code",
   "execution_count": 13,
   "metadata": {
    "collapsed": false
   },
   "outputs": [
    {
     "data": {
      "text/html": [
       "<div>\n",
       "<table border=\"1\" class=\"dataframe\">\n",
       "  <thead>\n",
       "    <tr style=\"text-align: right;\">\n",
       "      <th></th>\n",
       "      <th>atomic_number</th>\n",
       "      <th>symbol</th>\n",
       "      <th>atomic_radius</th>\n",
       "      <th>en_pauling</th>\n",
       "      <th>mass_x</th>\n",
       "      <th>block</th>\n",
       "      <th>vdw_radius_mm3</th>\n",
       "      <th>mass_y</th>\n",
       "      <th>abundance</th>\n",
       "      <th>mass_number</th>\n",
       "    </tr>\n",
       "  </thead>\n",
       "  <tbody>\n",
       "    <tr>\n",
       "      <th>0</th>\n",
       "      <td>1</td>\n",
       "      <td>H</td>\n",
       "      <td>79</td>\n",
       "      <td>2.20</td>\n",
       "      <td>1.007940</td>\n",
       "      <td>s</td>\n",
       "      <td>162</td>\n",
       "      <td>1.007825</td>\n",
       "      <td>0.999885</td>\n",
       "      <td>1</td>\n",
       "    </tr>\n",
       "    <tr>\n",
       "      <th>1</th>\n",
       "      <td>1</td>\n",
       "      <td>H</td>\n",
       "      <td>79</td>\n",
       "      <td>2.20</td>\n",
       "      <td>1.007940</td>\n",
       "      <td>s</td>\n",
       "      <td>162</td>\n",
       "      <td>2.014102</td>\n",
       "      <td>0.000115</td>\n",
       "      <td>2</td>\n",
       "    </tr>\n",
       "    <tr>\n",
       "      <th>2</th>\n",
       "      <td>2</td>\n",
       "      <td>He</td>\n",
       "      <td>NaN</td>\n",
       "      <td>NaN</td>\n",
       "      <td>4.002602</td>\n",
       "      <td>s</td>\n",
       "      <td>153</td>\n",
       "      <td>3.016029</td>\n",
       "      <td>0.000001</td>\n",
       "      <td>3</td>\n",
       "    </tr>\n",
       "    <tr>\n",
       "      <th>3</th>\n",
       "      <td>2</td>\n",
       "      <td>He</td>\n",
       "      <td>NaN</td>\n",
       "      <td>NaN</td>\n",
       "      <td>4.002602</td>\n",
       "      <td>s</td>\n",
       "      <td>153</td>\n",
       "      <td>4.002603</td>\n",
       "      <td>0.999999</td>\n",
       "      <td>4</td>\n",
       "    </tr>\n",
       "    <tr>\n",
       "      <th>4</th>\n",
       "      <td>3</td>\n",
       "      <td>Li</td>\n",
       "      <td>155</td>\n",
       "      <td>0.98</td>\n",
       "      <td>6.941000</td>\n",
       "      <td>s</td>\n",
       "      <td>255</td>\n",
       "      <td>6.015122</td>\n",
       "      <td>0.075900</td>\n",
       "      <td>6</td>\n",
       "    </tr>\n",
       "  </tbody>\n",
       "</table>\n",
       "</div>"
      ],
      "text/plain": [
       "   atomic_number symbol  atomic_radius  en_pauling    mass_x block  \\\n",
       "0              1      H             79        2.20  1.007940     s   \n",
       "1              1      H             79        2.20  1.007940     s   \n",
       "2              2     He            NaN         NaN  4.002602     s   \n",
       "3              2     He            NaN         NaN  4.002602     s   \n",
       "4              3     Li            155        0.98  6.941000     s   \n",
       "\n",
       "   vdw_radius_mm3    mass_y  abundance  mass_number  \n",
       "0             162  1.007825   0.999885            1  \n",
       "1             162  2.014102   0.000115            2  \n",
       "2             153  3.016029   0.000001            3  \n",
       "3             153  4.002603   0.999999            4  \n",
       "4             255  6.015122   0.075900            6  "
      ]
     },
     "execution_count": 13,
     "metadata": {},
     "output_type": "execute_result"
    }
   ],
   "source": [
    "merged.head()"
   ]
  },
  {
   "cell_type": "markdown",
   "metadata": {},
   "source": [
    "To display all the isotopes of Silicon"
   ]
  },
  {
   "cell_type": "code",
   "execution_count": 14,
   "metadata": {
    "collapsed": false
   },
   "outputs": [
    {
     "data": {
      "text/html": [
       "<div>\n",
       "<table border=\"1\" class=\"dataframe\">\n",
       "  <thead>\n",
       "    <tr style=\"text-align: right;\">\n",
       "      <th></th>\n",
       "      <th>atomic_number</th>\n",
       "      <th>symbol</th>\n",
       "      <th>atomic_radius</th>\n",
       "      <th>en_pauling</th>\n",
       "      <th>mass_x</th>\n",
       "      <th>block</th>\n",
       "      <th>vdw_radius_mm3</th>\n",
       "      <th>mass_y</th>\n",
       "      <th>abundance</th>\n",
       "      <th>mass_number</th>\n",
       "    </tr>\n",
       "  </thead>\n",
       "  <tbody>\n",
       "    <tr>\n",
       "      <th>25</th>\n",
       "      <td>14</td>\n",
       "      <td>Si</td>\n",
       "      <td>132</td>\n",
       "      <td>1.9</td>\n",
       "      <td>28.0855</td>\n",
       "      <td>p</td>\n",
       "      <td>229</td>\n",
       "      <td>27.976927</td>\n",
       "      <td>0.922297</td>\n",
       "      <td>28</td>\n",
       "    </tr>\n",
       "    <tr>\n",
       "      <th>26</th>\n",
       "      <td>14</td>\n",
       "      <td>Si</td>\n",
       "      <td>132</td>\n",
       "      <td>1.9</td>\n",
       "      <td>28.0855</td>\n",
       "      <td>p</td>\n",
       "      <td>229</td>\n",
       "      <td>28.976495</td>\n",
       "      <td>0.046832</td>\n",
       "      <td>29</td>\n",
       "    </tr>\n",
       "    <tr>\n",
       "      <th>27</th>\n",
       "      <td>14</td>\n",
       "      <td>Si</td>\n",
       "      <td>132</td>\n",
       "      <td>1.9</td>\n",
       "      <td>28.0855</td>\n",
       "      <td>p</td>\n",
       "      <td>229</td>\n",
       "      <td>29.973770</td>\n",
       "      <td>0.030871</td>\n",
       "      <td>30</td>\n",
       "    </tr>\n",
       "  </tbody>\n",
       "</table>\n",
       "</div>"
      ],
      "text/plain": [
       "    atomic_number symbol  atomic_radius  en_pauling   mass_x block  \\\n",
       "25             14     Si            132         1.9  28.0855     p   \n",
       "26             14     Si            132         1.9  28.0855     p   \n",
       "27             14     Si            132         1.9  28.0855     p   \n",
       "\n",
       "    vdw_radius_mm3     mass_y  abundance  mass_number  \n",
       "25             229  27.976927   0.922297           28  \n",
       "26             229  28.976495   0.046832           29  \n",
       "27             229  29.973770   0.030871           30  "
      ]
     },
     "execution_count": 14,
     "metadata": {},
     "output_type": "execute_result"
    }
   ],
   "source": [
    "merged[merged['symbol'] == 'Si']"
   ]
  },
  {
   "cell_type": "code",
   "execution_count": 16,
   "metadata": {
    "collapsed": false
   },
   "outputs": [
    {
     "data": {
      "application/json": {
       "Software versions": [
        {
         "module": "Python",
         "version": "3.4.2 64bit [GCC 4.9.1]"
        },
        {
         "module": "IPython",
         "version": "4.1.1"
        },
        {
         "module": "OS",
         "version": "Linux 3.16.0 4 amd64 x86_64 with debian 8.3"
        },
        {
         "module": "mendeleev",
         "version": "0.2.4"
        },
        {
         "module": "numpy",
         "version": "1.10.4"
        },
        {
         "module": "scipy",
         "version": "0.17.0"
        },
        {
         "module": "pandas",
         "version": "0.17.1"
        }
       ]
      },
      "text/html": [
       "<table><tr><th>Software</th><th>Version</th></tr><tr><td>Python</td><td>3.4.2 64bit [GCC 4.9.1]</td></tr><tr><td>IPython</td><td>4.1.1</td></tr><tr><td>OS</td><td>Linux 3.16.0 4 amd64 x86_64 with debian 8.3</td></tr><tr><td>mendeleev</td><td>0.2.4</td></tr><tr><td>numpy</td><td>1.10.4</td></tr><tr><td>scipy</td><td>0.17.0</td></tr><tr><td>pandas</td><td>0.17.1</td></tr><tr><td colspan='2'>wto lut 16 22:08:48 2016 CET</td></tr></table>"
      ],
      "text/latex": [
       "\\begin{tabular}{|l|l|}\\hline\n",
       "{\\bf Software} & {\\bf Version} \\\\ \\hline\\hline\n",
       "Python & 3.4.2 64bit [GCC 4.9.1] \\\\ \\hline\n",
       "IPython & 4.1.1 \\\\ \\hline\n",
       "OS & Linux 3.16.0 4 amd64 x86\\_64 with debian 8.3 \\\\ \\hline\n",
       "mendeleev & 0.2.4 \\\\ \\hline\n",
       "numpy & 1.10.4 \\\\ \\hline\n",
       "scipy & 0.17.0 \\\\ \\hline\n",
       "pandas & 0.17.1 \\\\ \\hline\n",
       "\\hline \\multicolumn{2}{|l|}{wto lut 16 22:08:48 2016 CET} \\\\ \\hline\n",
       "\\end{tabular}\n"
      ],
      "text/plain": [
       "Software versions\n",
       "Python 3.4.2 64bit [GCC 4.9.1]\n",
       "IPython 4.1.1\n",
       "OS Linux 3.16.0 4 amd64 x86_64 with debian 8.3\n",
       "mendeleev 0.2.4\n",
       "numpy 1.10.4\n",
       "scipy 0.17.0\n",
       "pandas 0.17.1\n",
       "wto lut 16 22:08:48 2016 CET"
      ]
     },
     "execution_count": 16,
     "metadata": {},
     "output_type": "execute_result"
    }
   ],
   "source": [
    "%version_information mendeleev, numpy, scipy, pandas"
   ]
  }
 ],
 "metadata": {
  "kernelspec": {
   "display_name": "Python 3",
   "language": "python",
   "name": "python3"
  },
  "language_info": {
   "codemirror_mode": {
    "name": "ipython",
    "version": 3
   },
   "file_extension": ".py",
   "mimetype": "text/x-python",
   "name": "python",
   "nbconvert_exporter": "python",
   "pygments_lexer": "ipython3",
   "version": "3.4.2"
  }
 },
 "nbformat": 4,
 "nbformat_minor": 0
}
