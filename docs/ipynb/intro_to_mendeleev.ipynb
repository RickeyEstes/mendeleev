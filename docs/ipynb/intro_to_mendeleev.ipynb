{
 "cells": [
  {
   "cell_type": "markdown",
   "metadata": {},
   "source": [
    "# mendeleev tutorial\n",
    "\n",
    "This simple tutorial will illustrate the basic capabilities of the package.\n",
    "\n",
    "## Basic interactive usage\n",
    "\n",
    "The simple interface to the data is through the ``element`` function that returns a single ``Element`` object or a list of ``Element`` object depending on the argument.\n",
    "\n",
    "The function can be imported directly from the ``mendeleev`` package"
   ]
  },
  {
   "cell_type": "code",
   "execution_count": 3,
   "metadata": {
    "collapsed": false
   },
   "outputs": [],
   "source": [
    "from mendeleev import element"
   ]
  },
  {
   "cell_type": "markdown",
   "metadata": {},
   "source": [
    "### Getting single elements"
   ]
  },
  {
   "cell_type": "markdown",
   "metadata": {},
   "source": [
    "The ``element`` method accepts unique identifiers: **atomic number**, **atomic symbol** or **element’s name** in English. To retrieve the entries on Silicon by symbol type"
   ]
  },
  {
   "cell_type": "code",
   "execution_count": 4,
   "metadata": {
    "collapsed": false
   },
   "outputs": [],
   "source": [
    "si = element('Si')"
   ]
  },
  {
   "cell_type": "code",
   "execution_count": 5,
   "metadata": {
    "collapsed": false
   },
   "outputs": [
    {
     "data": {
      "text/plain": [
       "Element(\n",
       "\tannotation=u'',\n",
       " \tatomic_number=14,\n",
       " \tatomic_radius=132.0,\n",
       " \tatomic_volume=12.1,\n",
       " \tblock=u'p',\n",
       " \tboiling_point=2628.0,\n",
       " \tc6=305.0,\n",
       " \tcovalent_radius_bragg=117.0,\n",
       " \tcovalent_radius_cordero=111.00000000000001,\n",
       " \tcovalent_radius_pyykko=115.99999999999999,\n",
       " \tcovalent_radius_slater=110.00000000000001,\n",
       " \tcpk_color=u'#daa520',\n",
       " \tdensity=2.33,\n",
       " \tdescription=u\"Metalloid element belonging to group 14 of the periodic table. It is the second most abundant element in the Earth's crust, making up 25.7% of it by weight. Chemically less reactive than carbon. First identified by Lavoisier in 1787 and first isolated in 1823 by Berzelius.\",\n",
       " \tdipole_polarizability=37.31,\n",
       " \tec=1s2 2s2 2p6 3s2 3p2,\n",
       " \teconf=u'[Ne] 3s2 3p2',\n",
       " \telectron_affinity=1.3895211,\n",
       " \ten_allen=11.33,\n",
       " \ten_pauling=1.9,\n",
       " \tevaporation_heat=383.0,\n",
       " \tfusion_heat=50.6,\n",
       " \tgas_basicity=814.1,\n",
       " \tgroup_id=14,\n",
       " \theat_of_formation=450.0,\n",
       " \tjmol_color=u'#f0c8a0',\n",
       " \tlattice_constant=5.43,\n",
       " \tlattice_structure=u'DIA',\n",
       " \tmass=28.0855,\n",
       " \tmelting_point=1683.0,\n",
       " \tname=u'Silicon',\n",
       " \tperiod=3,\n",
       " \tproton_affinity=837.0,\n",
       " \tspecific_heat=0.703,\n",
       " \tsymbol=u'Si',\n",
       " \tthermal_conductivity=149.0,\n",
       " \tvdw_radius=210.0,\n",
       " \tvdw_radius_batsanov=210.0,\n",
       " \tvdw_radius_bondi=210.0,\n",
       " \tvdw_radius_dreiding=426.99999999999994,\n",
       " \tvdw_radius_mm3=229.0,\n",
       " \tvdw_radius_rt=None,\n",
       " \tvdw_radius_truhlar=None,\n",
       " \tvdw_radius_uff=429.5,\n",
       ")"
      ]
     },
     "execution_count": 5,
     "metadata": {},
     "output_type": "execute_result"
    }
   ],
   "source": [
    "si"
   ]
  },
  {
   "cell_type": "markdown",
   "metadata": {},
   "source": [
    "Similarly to access the data by atomic number or element names type"
   ]
  },
  {
   "cell_type": "code",
   "execution_count": 6,
   "metadata": {
    "collapsed": false
   },
   "outputs": [
    {
     "name": "stdout",
     "output_type": "stream",
     "text": [
      "Aluminum\n"
     ]
    }
   ],
   "source": [
    "al = element(13)\n",
    "print al.name"
   ]
  },
  {
   "cell_type": "code",
   "execution_count": 7,
   "metadata": {
    "collapsed": false
   },
   "outputs": [
    {
     "name": "stdout",
     "output_type": "stream",
     "text": [
      "8\n"
     ]
    }
   ],
   "source": [
    "o = element('Oxygen')\n",
    "print o.atomic_number"
   ]
  },
  {
   "cell_type": "markdown",
   "metadata": {},
   "source": [
    "### Getting list of elements"
   ]
  },
  {
   "cell_type": "markdown",
   "metadata": {},
   "source": [
    "The ``element`` method also accepts list or tuple of identifiers and then returns a list of ``Element`` objects"
   ]
  },
  {
   "cell_type": "code",
   "execution_count": 8,
   "metadata": {
    "collapsed": false
   },
   "outputs": [
    {
     "name": "stdout",
     "output_type": "stream",
     "text": [
      "Carbon Hydrogen Oxygen\n"
     ]
    }
   ],
   "source": [
    "c, h, o = element(['C', 'Hydrogen', 8])\n",
    "print c.name, h.name, o.name"
   ]
  },
  {
   "cell_type": "markdown",
   "metadata": {},
   "source": [
    "## Extended attributes\n",
    "\n",
    "Next to simple attributes returning ``str``, ``int`` or ``float``, there are extended attributes \n",
    "\n",
    "* ``oxistates``, returns a list of oxidation states\n",
    "* ``ionenergies``, returns a dictionary of ionization energies\n",
    "* ``isotopes``, returns a list of ``Isotope`` objects\n",
    "* ``ionic_radii`` returns a list of ``IonicRadius`` objects\n",
    "* ``ec``, electronic configuration object\n"
   ]
  },
  {
   "cell_type": "markdown",
   "metadata": {},
   "source": [
    "### Oxidation states\n",
    "\n",
    "``oxistates`` returns a list of most common oxidation states for a given element"
   ]
  },
  {
   "cell_type": "code",
   "execution_count": 9,
   "metadata": {
    "collapsed": false
   },
   "outputs": [
    {
     "name": "stdout",
     "output_type": "stream",
     "text": [
      "[6, 3, 2, 0, -2]\n"
     ]
    }
   ],
   "source": [
    "fe = element('Fe')\n",
    "print fe.oxistates"
   ]
  },
  {
   "cell_type": "markdown",
   "metadata": {},
   "source": [
    "### Ionization energies\n",
    "\n",
    "The ``ionenergies`` returns a dictionary with ionization energies in `eV` as values and degrees of ionization as keys"
   ]
  },
  {
   "cell_type": "code",
   "execution_count": 10,
   "metadata": {
    "collapsed": false
   },
   "outputs": [
    {
     "data": {
      "text/plain": [
       "{1: 13.618054,\n",
       " 2: 35.12111,\n",
       " 3: 54.93554,\n",
       " 4: 77.4135,\n",
       " 5: 113.8989,\n",
       " 6: 138.1189,\n",
       " 7: 739.32679,\n",
       " 8: 871.40985}"
      ]
     },
     "execution_count": 10,
     "metadata": {},
     "output_type": "execute_result"
    }
   ],
   "source": [
    "o = element('O')\n",
    "o.ionenergies"
   ]
  },
  {
   "cell_type": "markdown",
   "metadata": {},
   "source": [
    "### Isotopes\n",
    "\n",
    "The ``isotopes`` attribute returns a list of ``Isotope`` objects with the following attributes per isotope\n",
    "\n",
    "* atomic_number\n",
    "* mass\n",
    "* abundance\n",
    "* mass_number"
   ]
  },
  {
   "cell_type": "code",
   "execution_count": 18,
   "metadata": {
    "collapsed": false
   },
   "outputs": [
    {
     "name": "stdout",
     "output_type": "stream",
     "text": [
      " AN      Mass     Abu.   MN  \n",
      "------------------------------\n",
      "   26   55.93494  91.75%    56\n",
      "   26   56.93540   2.12%    57\n",
      "   26   57.93328   0.28%    58\n",
      "   26   53.93961   5.85%    54\n"
     ]
    }
   ],
   "source": [
    "print(\"{0:^5s} {1:^10s} {2:^6s} {3:^5s}\\n{4}\".format(\"AN\", \"Mass\", \"Abu.\", \"MN\", \"-\"*30))\n",
    "for isotope in fe.isotopes:\n",
    "    print isotope"
   ]
  },
  {
   "cell_type": "markdown",
   "metadata": {},
   "source": [
    "### Ionic radii\n",
    "\n",
    "Another composite attribute is ``ionic_radii`` which returns a list of ``IonicRadius`` object with the following attributes\n",
    "\n",
    "* ``atomic_number``, atomic number of the ion\n",
    "* ``charge``, charge of the ion\n",
    "* ``econf``, electronic configuration of the ion\n",
    "* ``coordination``, coordination type of the ion\n",
    "* ``spin``, spin state of the ion (HS or LS)\n",
    "* ``crystal_radius``, crystal radius in pm\n",
    "* ``ionic_radius``, ionic radius in pm\n",
    "* ``origin``, source of the data\n",
    "* ``most_reliable``, recommended value, (see the original paper for more information)\n"
   ]
  },
  {
   "cell_type": "code",
   "execution_count": 16,
   "metadata": {
    "collapsed": false
   },
   "outputs": [
    {
     "name": "stdout",
     "output_type": "stream",
     "text": [
      "charge=   2, coordination=IV   , crystal_radius=77.000, ionic_radius=63.000\n",
      "charge=   2, coordination=IVSQ , crystal_radius=78.000, ionic_radius=64.000\n",
      "charge=   2, coordination=VI   , crystal_radius=75.000, ionic_radius=61.000\n",
      "charge=   2, coordination=VI   , crystal_radius=92.000, ionic_radius=78.000\n",
      "charge=   2, coordination=VIII , crystal_radius=106.000, ionic_radius=92.000\n",
      "charge=   3, coordination=IV   , crystal_radius=63.000, ionic_radius=49.000\n",
      "charge=   3, coordination=V    , crystal_radius=72.000, ionic_radius=58.000\n",
      "charge=   3, coordination=VI   , crystal_radius=69.000, ionic_radius=55.000\n",
      "charge=   3, coordination=VI   , crystal_radius=78.500, ionic_radius=64.500\n",
      "charge=   3, coordination=VIII , crystal_radius=92.000, ionic_radius=78.000\n",
      "charge=   4, coordination=VI   , crystal_radius=72.500, ionic_radius=58.500\n",
      "charge=   6, coordination=IV   , crystal_radius=39.000, ionic_radius=25.000\n"
     ]
    }
   ],
   "source": [
    "for ir in fe.ionic_radii:\n",
    "    print ir "
   ]
  },
  {
   "cell_type": "markdown",
   "metadata": {},
   "source": [
    "###  electronic configuration\n",
    "\n",
    "`ec` attribute is an object from the `ElectronicConfiguration` class that has additional method for manipulating the configuration. Internally the configuration is represented as a `OrderedDict` from the `collections` module where tuples `(n, s)` (`n` is the principal quantum number and `s` is the subshell label) are used as keys and shell occupations are the values"
   ]
  },
  {
   "cell_type": "code",
   "execution_count": 19,
   "metadata": {
    "collapsed": false
   },
   "outputs": [
    {
     "data": {
      "text/plain": [
       "OrderedDict([((1, 's'), 2),\n",
       "             ((2, 's'), 2),\n",
       "             ((2, 'p'), 6),\n",
       "             ((3, u's'), 2),\n",
       "             ((3, u'p'), 2)])"
      ]
     },
     "execution_count": 19,
     "metadata": {},
     "output_type": "execute_result"
    }
   ],
   "source": [
    "si.ec.conf"
   ]
  },
  {
   "cell_type": "markdown",
   "metadata": {},
   "source": [
    "the occupation of different subshells can be access supplying a proper key"
   ]
  },
  {
   "cell_type": "code",
   "execution_count": 20,
   "metadata": {
    "collapsed": false
   },
   "outputs": [
    {
     "data": {
      "text/plain": [
       "2"
      ]
     },
     "execution_count": 20,
     "metadata": {},
     "output_type": "execute_result"
    }
   ],
   "source": [
    "si.ec.conf[(1, 's')]"
   ]
  },
  {
   "cell_type": "markdown",
   "metadata": {},
   "source": [
    "to calculate the number of electrons per shell type"
   ]
  },
  {
   "cell_type": "code",
   "execution_count": 22,
   "metadata": {
    "collapsed": false
   },
   "outputs": [
    {
     "data": {
      "text/plain": [
       "{'K': 2, 'L': 8, 'M': 4}"
      ]
     },
     "execution_count": 22,
     "metadata": {},
     "output_type": "execute_result"
    }
   ],
   "source": [
    "si.ec.electrons_per_shell()"
   ]
  },
  {
   "cell_type": "markdown",
   "metadata": {},
   "source": [
    "get the largest value of the pricipal quantum number"
   ]
  },
  {
   "cell_type": "code",
   "execution_count": 29,
   "metadata": {
    "collapsed": false
   },
   "outputs": [
    {
     "data": {
      "text/plain": [
       "3"
      ]
     },
     "execution_count": 29,
     "metadata": {},
     "output_type": "execute_result"
    }
   ],
   "source": [
    "si.ec.maxn()"
   ]
  },
  {
   "cell_type": "markdown",
   "metadata": {},
   "source": [
    "### Some useful functions\n",
    "\n",
    "Next to stored attributes there is a number of useful functions"
   ]
  },
  {
   "cell_type": "code",
   "execution_count": 31,
   "metadata": {
    "collapsed": false
   },
   "outputs": [
    {
     "data": {
      "text/plain": [
       "4"
      ]
     },
     "execution_count": 31,
     "metadata": {},
     "output_type": "execute_result"
    }
   ],
   "source": [
    "# get the number of valence electrons\n",
    "si.nvalence()"
   ]
  },
  {
   "cell_type": "code",
   "execution_count": 32,
   "metadata": {
    "collapsed": false
   },
   "outputs": [
    {
     "data": {
      "text/plain": [
       "0.058318712346158874"
      ]
     },
     "execution_count": 32,
     "metadata": {},
     "output_type": "execute_result"
    }
   ],
   "source": [
    "# calculate softness for an ion\n",
    "si.softness(charge=2)"
   ]
  },
  {
   "cell_type": "code",
   "execution_count": 33,
   "metadata": {
    "collapsed": false
   },
   "outputs": [
    {
     "data": {
      "text/plain": [
       "60.812605"
      ]
     },
     "execution_count": 33,
     "metadata": {},
     "output_type": "execute_result"
    }
   ],
   "source": [
    "# calcualte hardness for an ion\n",
    "si.hardness(charge=4)"
   ]
  },
  {
   "cell_type": "code",
   "execution_count": 34,
   "metadata": {
    "collapsed": false
   },
   "outputs": [
    {
     "data": {
      "text/plain": [
       "8.1729225"
      ]
     },
     "execution_count": 34,
     "metadata": {},
     "output_type": "execute_result"
    }
   ],
   "source": [
    "# calculate mulliken electronegativity for a neutral atom or ion\n",
    "si.en_mulliken(charge=1)"
   ]
  },
  {
   "cell_type": "code",
   "execution_count": 35,
   "metadata": {
    "collapsed": false
   },
   "outputs": [
    {
     "data": {
      "text/plain": [
       "4.149999999999999"
      ]
     },
     "execution_count": 35,
     "metadata": {},
     "output_type": "execute_result"
    }
   ],
   "source": [
    "# calculate the effective nuclear charge for a subshell using Slater's rules\n",
    "si.zeff(n=3, s='s')"
   ]
  },
  {
   "cell_type": "code",
   "execution_count": 36,
   "metadata": {
    "collapsed": false
   },
   "outputs": [
    {
     "data": {
      "text/plain": [
       "4.9032"
      ]
     },
     "execution_count": 36,
     "metadata": {},
     "output_type": "execute_result"
    }
   ],
   "source": [
    "# calculate the effective nuclear charge for a subshell using Clemneti's and Raimondi's exponents\n",
    "si.zeff(n=3, s='s', method='clementi')"
   ]
  },
  {
   "cell_type": "markdown",
   "metadata": {},
   "source": [
    "### Electronegativity\n",
    "\n",
    "Currently there are 9 electronagativity scales implemented that can me accessed though the common ``electronegativity`` method, the scales are:\n",
    "\n",
    "* ``allen``\n",
    "* ``allred-rochow``\n",
    "* ``cottrell-sutton``\n",
    "* ``gordy``\n",
    "* ``li-xue``\n",
    "* ``mulliken``\n",
    "* ``nagle``\n",
    "* ``pauling``\n",
    "* ``sanderson``\n",
    "\n",
    "More information can be found in the [documentation](http://mendeleev.readthedocs.org/en/latest/electronegativity.html)."
   ]
  },
  {
   "cell_type": "code",
   "execution_count": 38,
   "metadata": {
    "collapsed": false
   },
   "outputs": [
    {
     "data": {
      "text/plain": [
       "1.9"
      ]
     },
     "execution_count": 38,
     "metadata": {},
     "output_type": "execute_result"
    }
   ],
   "source": [
    "si.electronegativity(scale='pauling')"
   ]
  },
  {
   "cell_type": "code",
   "execution_count": 39,
   "metadata": {
    "collapsed": false
   },
   "outputs": [
    {
     "data": {
      "text/plain": [
       "11.33"
      ]
     },
     "execution_count": 39,
     "metadata": {},
     "output_type": "execute_result"
    }
   ],
   "source": [
    "si.electronegativity(scale='allen')"
   ]
  },
  {
   "cell_type": "markdown",
   "metadata": {},
   "source": [
    "## CLI utility\n",
    "\n",
    "For those who work in the terminal there is a simple command line interface (CLI) for printing the information about a given element. The script name is element.py and it accepts either the symbol or name of the element as an argument and prints the data about it. For example, to print the properties of silicon type"
   ]
  },
  {
   "cell_type": "code",
   "execution_count": 17,
   "metadata": {
    "collapsed": false
   },
   "outputs": [
    {
     "name": "stdout",
     "output_type": "stream",
     "text": [
      "/home/lmentel/.virtualenvs/cat/local/lib/python2.7/site-packages/matplotlib/__init__.py:872: UserWarning: axes.color_cycle is deprecated and replaced with axes.prop_cycle; please use the latter.\n",
      "  warnings.warn(self.msg_depr % (key, alt_key))\n",
      "   _  _  _  _      _          \n",
      " _(_)(_)(_)(_)_   (_)         \n",
      "(_)          (_)_  _          \n",
      "(_)_  _  _  _  (_)(_)         \n",
      "  (_)(_)(_)(_)_   (_)         \n",
      " _           (_)  (_)         \n",
      "(_)_  _  _  _(_)_ (_) _       \n",
      "  (_)(_)(_)(_) (_)(_)(_)      \n",
      "                              \n",
      "                              \n",
      "\n",
      "Description\n",
      "===========\n",
      "\n",
      "  Metalloid element belonging to group 14 of the periodic table. It is\n",
      "  the second most abundant element in the Earth's crust, making up 25.7%\n",
      "  of it by weight. Chemically less reactive than carbon. First\n",
      "  identified by Lavoisier in 1787 and first isolated in 1823 by\n",
      "  Berzelius.\n",
      "\n",
      "Properties\n",
      "==========\n",
      "\n",
      "Annotation                            \n",
      "Atomic number                       14\n",
      "Atomic radius                      132\n",
      "Atomic volume                     12.1\n",
      "Block                                p\n",
      "Boiling point                     2628\n",
      "C6                                 305\n",
      "Covalent radius bragg              117\n",
      "Covalent radius cordero            111\n",
      "Covalent radius pyykko             116\n",
      "Covalent radius slater             110\n",
      "Cpk color                      #daa520\n",
      "Density                           2.33\n",
      "Dipole polarizability            37.31\n",
      "Electron affinity              1.38952\n",
      "Electronic configuration  [Ne] 3s2 3p2\n",
      "En allen                         11.33\n",
      "En pauling                         1.9\n",
      "Evaporation heat                   383\n",
      "Fusion heat                       50.6\n",
      "Gas basicity                     814.1\n",
      "Group id                            14\n",
      "Heat of formation                  450\n",
      "Jmol color                     #f0c8a0\n",
      "Lattice constant                  5.43\n",
      "Lattice structure                  DIA\n",
      "Mass                           28.0855\n",
      "Melting point                     1683\n",
      "Name                           Silicon\n",
      "Period                               3\n",
      "Proton affinity                    837\n",
      "Series id                            5\n",
      "Specific heat                    0.703\n",
      "Symbol                              Si\n",
      "Thermal conductivity               149\n",
      "Vdw radius                         210\n",
      "Vdw radius batsanov                210\n",
      "Vdw radius bondi                   210\n",
      "Vdw radius dreiding                427\n",
      "Vdw radius mm3                     229\n",
      "Vdw radius rt                      NaN\n",
      "Vdw radius truhlar                 NaN\n",
      "Vdw radius uff                   429.5\n"
     ]
    }
   ],
   "source": [
    "!element.py Si"
   ]
  }
 ],
 "metadata": {
  "kernelspec": {
   "display_name": "Python 2",
   "language": "python",
   "name": "python2"
  },
  "language_info": {
   "codemirror_mode": {
    "name": "ipython",
    "version": 2
   },
   "file_extension": ".py",
   "mimetype": "text/x-python",
   "name": "python",
   "nbconvert_exporter": "python",
   "pygments_lexer": "ipython2",
   "version": "2.7.9"
  }
 },
 "nbformat": 4,
 "nbformat_minor": 0
}
