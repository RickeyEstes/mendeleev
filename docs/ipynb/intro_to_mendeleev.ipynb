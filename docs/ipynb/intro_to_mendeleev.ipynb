{
 "cells": [
  {
   "cell_type": "markdown",
   "metadata": {},
   "source": [
    "# mendeleev tutorial\n",
    "\n",
    "This simple tutorial will illustrate the basic capabilities of the package.\n",
    "\n",
    "## Basic interactive usage\n",
    "\n",
    "The simple interface to the data is through the ``element`` function that returns a single ``Element`` object or a list of ``Element`` object depending on the argument.\n",
    "\n",
    "The function can be imported directly from the ``mendeleev`` package"
   ]
  },
  {
   "cell_type": "code",
   "execution_count": 1,
   "metadata": {
    "collapsed": false
   },
   "outputs": [],
   "source": [
    "from mendeleev import element"
   ]
  },
  {
   "cell_type": "markdown",
   "metadata": {},
   "source": [
    "### Getting single elements"
   ]
  },
  {
   "cell_type": "markdown",
   "metadata": {},
   "source": [
    "The ``element`` method accepts unique identifiers: **atomic number**, **atomic symbol** or **element’s name** in English. To retrieve the entries on Silicon by symbol type"
   ]
  },
  {
   "cell_type": "code",
   "execution_count": 2,
   "metadata": {
    "collapsed": false
   },
   "outputs": [],
   "source": [
    "si = element('Si')"
   ]
  },
  {
   "cell_type": "code",
   "execution_count": 3,
   "metadata": {
    "collapsed": false
   },
   "outputs": [
    {
     "data": {
      "text/plain": [
       "Element(\n",
       "\tabundance_crust=282000.0,\n",
       " \tabundance_sea=2.2,\n",
       " \tannotation='',\n",
       " \tatomic_number=14,\n",
       " \tatomic_radius=132.0,\n",
       " \tatomic_volume=12.1,\n",
       " \tatomic_weight=28.085,\n",
       " \tatomic_weight_uncertainty=None,\n",
       " \tblock='p',\n",
       " \tboiling_point=2628.0,\n",
       " \tc6=305.0,\n",
       " \tc6_gb=308.0,\n",
       " \tcovalent_radius_bragg=117.0,\n",
       " \tcovalent_radius_cordero=111.00000000000001,\n",
       " \tcovalent_radius_pyykko=115.99999999999999,\n",
       " \tcovalent_radius_slater=110.00000000000001,\n",
       " \tcpk_color='#daa520',\n",
       " \tdensity=2.33,\n",
       " \tdescription=\"Metalloid element belonging to group 14 of the periodic table. It is the second most abundant element in the Earth's crust, making up 25.7% of it by weight. Chemically less reactive than carbon. First identified by Lavoisier in 1787 and first isolated in 1823 by Berzelius.\",\n",
       " \tdipole_polarizability=37.31,\n",
       " \tec=1s2 2s2 2p6 3s2 3p2,\n",
       " \teconf='[Ne] 3s2 3p2',\n",
       " \telectron_affinity=1.3895211,\n",
       " \ten_allen=11.33,\n",
       " \ten_ghosh=0.178503,\n",
       " \ten_pauling=1.9,\n",
       " \tevaporation_heat=383.0,\n",
       " \tfusion_heat=50.6,\n",
       " \tgas_basicity=814.1,\n",
       " \tgroup_id=14,\n",
       " \theat_of_formation=450.0,\n",
       " \tis_monoisotopic=None,\n",
       " \tis_radioactive=False,\n",
       " \tjmol_color='#f0c8a0',\n",
       " \tlattice_constant=5.43,\n",
       " \tlattice_structure='DIA',\n",
       " \tmelting_point=1683.0,\n",
       " \tmolcas_gv_color='#f0c8a0',\n",
       " \tname='Silicon',\n",
       " \tperiod=3,\n",
       " \tproton_affinity=837.0,\n",
       " \tspecific_heat=0.703,\n",
       " \tsymbol='Si',\n",
       " \tthermal_conductivity=149.0,\n",
       " \tvdw_radius=210.0,\n",
       " \tvdw_radius_alvarez=219.0,\n",
       " \tvdw_radius_batsanov=210.0,\n",
       " \tvdw_radius_bondi=210.0,\n",
       " \tvdw_radius_dreiding=426.99999999999994,\n",
       " \tvdw_radius_mm3=229.0,\n",
       " \tvdw_radius_rt=None,\n",
       " \tvdw_radius_truhlar=None,\n",
       " \tvdw_radius_uff=429.5,\n",
       ")"
      ]
     },
     "execution_count": 3,
     "metadata": {},
     "output_type": "execute_result"
    }
   ],
   "source": [
    "si"
   ]
  },
  {
   "cell_type": "markdown",
   "metadata": {},
   "source": [
    "Similarly to access the data by atomic number or element names type"
   ]
  },
  {
   "cell_type": "code",
   "execution_count": 4,
   "metadata": {
    "collapsed": false
   },
   "outputs": [
    {
     "name": "stdout",
     "output_type": "stream",
     "text": [
      "Aluminum\n"
     ]
    }
   ],
   "source": [
    "al = element(13)\n",
    "print(al.name)"
   ]
  },
  {
   "cell_type": "code",
   "execution_count": 5,
   "metadata": {
    "collapsed": false
   },
   "outputs": [
    {
     "name": "stdout",
     "output_type": "stream",
     "text": [
      "8\n"
     ]
    }
   ],
   "source": [
    "o = element('Oxygen')\n",
    "print(o.atomic_number)"
   ]
  },
  {
   "cell_type": "markdown",
   "metadata": {},
   "source": [
    "### Getting list of elements"
   ]
  },
  {
   "cell_type": "markdown",
   "metadata": {},
   "source": [
    "The ``element`` method also accepts list or tuple of identifiers and then returns a list of ``Element`` objects"
   ]
  },
  {
   "cell_type": "code",
   "execution_count": 6,
   "metadata": {
    "collapsed": false
   },
   "outputs": [
    {
     "name": "stdout",
     "output_type": "stream",
     "text": [
      "Carbon Hydrogen Oxygen\n"
     ]
    }
   ],
   "source": [
    "c, h, o = element(['C', 'Hydrogen', 8])\n",
    "print(c.name, h.name, o.name)"
   ]
  },
  {
   "cell_type": "markdown",
   "metadata": {},
   "source": [
    "## Extended attributes\n",
    "\n",
    "Next to simple attributes returning ``str``, ``int`` or ``float``, there are extended attributes \n",
    "\n",
    "* ``oxistates``, returns a list of oxidation states\n",
    "* ``ionenergies``, returns a dictionary of ionization energies\n",
    "* ``isotopes``, returns a list of ``Isotope`` objects\n",
    "* ``ionic_radii`` returns a list of ``IonicRadius`` objects\n",
    "* ``ec``, electronic configuration object\n"
   ]
  },
  {
   "cell_type": "markdown",
   "metadata": {},
   "source": [
    "### Oxidation states\n",
    "\n",
    "``oxistates`` returns a list of most common oxidation states for a given element"
   ]
  },
  {
   "cell_type": "code",
   "execution_count": 7,
   "metadata": {
    "collapsed": false
   },
   "outputs": [
    {
     "name": "stdout",
     "output_type": "stream",
     "text": [
      "[6, 3, 2, 0, -2]\n"
     ]
    }
   ],
   "source": [
    "fe = element('Fe')\n",
    "print(fe.oxistates)"
   ]
  },
  {
   "cell_type": "markdown",
   "metadata": {},
   "source": [
    "### Ionization energies\n",
    "\n",
    "The ``ionenergies`` returns a dictionary with ionization energies in `eV` as values and degrees of ionization as keys"
   ]
  },
  {
   "cell_type": "code",
   "execution_count": 8,
   "metadata": {
    "collapsed": false
   },
   "outputs": [
    {
     "data": {
      "text/plain": [
       "{1: 13.618054,\n",
       " 2: 35.12111,\n",
       " 3: 54.93554,\n",
       " 4: 77.4135,\n",
       " 5: 113.8989,\n",
       " 6: 138.1189,\n",
       " 7: 739.32679,\n",
       " 8: 871.40985}"
      ]
     },
     "execution_count": 8,
     "metadata": {},
     "output_type": "execute_result"
    }
   ],
   "source": [
    "o = element('O')\n",
    "o.ionenergies"
   ]
  },
  {
   "cell_type": "markdown",
   "metadata": {},
   "source": [
    "### Isotopes\n",
    "\n",
    "The ``isotopes`` attribute returns a list of ``Isotope`` objects with the following attributes per isotope\n",
    "\n",
    "* abundance\n",
    "* atomic_number\n",
    "* is_radioactive\n",
    "* mass\n",
    "* mass_number\n",
    "* mass_uncertainty"
   ]
  },
  {
   "cell_type": "code",
   "execution_count": 9,
   "metadata": {
    "collapsed": false
   },
   "outputs": [
    {
     "name": "stdout",
     "output_type": "stream",
     "text": [
      " AN   MN     Mass    Unc.     Abu.   Rad. \n",
      "------------------------------------------\n",
      "  26   54   53.93961 3.00e-06   5.85 False\n",
      "  26   56   55.93494 3.00e-06  91.75 False\n",
      "  26   57   56.93539 3.00e-06   2.12 False\n",
      "  26   58   57.93327 3.00e-06   0.28 False\n"
     ]
    }
   ],
   "source": [
    "print(\"{0:^4s} {1:^4s} {2:^10s} {3:8s} {4:6s} {5:5s}\\n{6}\".format(\"AN\", \"MN\", \"Mass\", \"Unc.\", \"Abu.\", \"Rad.\", \"-\"*42))\n",
    "for iso in fe.isotopes:\n",
    "    print('{0:4d} {1:4d} {2:10.5f} {3:8.2e} {4:6.2f} {5:}'.format(\n",
    "        iso.atomic_number, iso.mass_number, iso.mass, iso.mass_uncertainty, iso.abundance * 100.0, iso.is_radioactive))"
   ]
  },
  {
   "cell_type": "markdown",
   "metadata": {},
   "source": [
    "### Ionic radii\n",
    "\n",
    "Another composite attribute is ``ionic_radii`` which returns a list of ``IonicRadius`` object with the following attributes\n",
    "\n",
    "* ``atomic_number``, atomic number of the ion\n",
    "* ``charge``, charge of the ion\n",
    "* ``econf``, electronic configuration of the ion\n",
    "* ``coordination``, coordination type of the ion\n",
    "* ``spin``, spin state of the ion (HS or LS)\n",
    "* ``crystal_radius``, crystal radius in pm\n",
    "* ``ionic_radius``, ionic radius in pm\n",
    "* ``origin``, source of the data\n",
    "* ``most_reliable``, recommended value, (see the original paper for more information)\n"
   ]
  },
  {
   "cell_type": "code",
   "execution_count": 10,
   "metadata": {
    "collapsed": false
   },
   "outputs": [
    {
     "name": "stdout",
     "output_type": "stream",
     "text": [
      "charge=   2, coordination=IV   , crystal_radius=77.000, ionic_radius=63.000\n",
      "charge=   2, coordination=IVSQ , crystal_radius=78.000, ionic_radius=64.000\n",
      "charge=   2, coordination=VI   , crystal_radius=75.000, ionic_radius=61.000\n",
      "charge=   2, coordination=VI   , crystal_radius=92.000, ionic_radius=78.000\n",
      "charge=   2, coordination=VIII , crystal_radius=106.000, ionic_radius=92.000\n",
      "charge=   3, coordination=IV   , crystal_radius=63.000, ionic_radius=49.000\n",
      "charge=   3, coordination=V    , crystal_radius=72.000, ionic_radius=58.000\n",
      "charge=   3, coordination=VI   , crystal_radius=69.000, ionic_radius=55.000\n",
      "charge=   3, coordination=VI   , crystal_radius=78.500, ionic_radius=64.500\n",
      "charge=   3, coordination=VIII , crystal_radius=92.000, ionic_radius=78.000\n",
      "charge=   4, coordination=VI   , crystal_radius=72.500, ionic_radius=58.500\n",
      "charge=   6, coordination=IV   , crystal_radius=39.000, ionic_radius=25.000\n"
     ]
    }
   ],
   "source": [
    "for ir in fe.ionic_radii:\n",
    "    print(ir)"
   ]
  },
  {
   "cell_type": "markdown",
   "metadata": {},
   "source": [
    "###  electronic configuration\n",
    "\n",
    "`ec` attribute is an object from the `ElectronicConfiguration` class that has additional method for manipulating the configuration. Internally the configuration is represented as a `OrderedDict` from the `collections` module where tuples `(n, s)` (`n` is the principal quantum number and `s` is the subshell label) are used as keys and shell occupations are the values"
   ]
  },
  {
   "cell_type": "code",
   "execution_count": 11,
   "metadata": {
    "collapsed": false
   },
   "outputs": [
    {
     "data": {
      "text/plain": [
       "OrderedDict([((1, 's'), 2),\n",
       "             ((2, 's'), 2),\n",
       "             ((2, 'p'), 6),\n",
       "             ((3, 's'), 2),\n",
       "             ((3, 'p'), 2)])"
      ]
     },
     "execution_count": 11,
     "metadata": {},
     "output_type": "execute_result"
    }
   ],
   "source": [
    "si.ec.conf"
   ]
  },
  {
   "cell_type": "markdown",
   "metadata": {},
   "source": [
    "the occupation of different subshells can be access supplying a proper key"
   ]
  },
  {
   "cell_type": "code",
   "execution_count": 12,
   "metadata": {
    "collapsed": false
   },
   "outputs": [
    {
     "data": {
      "text/plain": [
       "2"
      ]
     },
     "execution_count": 12,
     "metadata": {},
     "output_type": "execute_result"
    }
   ],
   "source": [
    "si.ec.conf[(1, 's')]"
   ]
  },
  {
   "cell_type": "markdown",
   "metadata": {},
   "source": [
    "to calculate the number of electrons per shell type"
   ]
  },
  {
   "cell_type": "code",
   "execution_count": 13,
   "metadata": {
    "collapsed": false
   },
   "outputs": [
    {
     "data": {
      "text/plain": [
       "{'K': 2, 'L': 8, 'M': 4}"
      ]
     },
     "execution_count": 13,
     "metadata": {},
     "output_type": "execute_result"
    }
   ],
   "source": [
    "si.ec.electrons_per_shell()"
   ]
  },
  {
   "cell_type": "markdown",
   "metadata": {},
   "source": [
    "get the largest value of the pricipal quantum number"
   ]
  },
  {
   "cell_type": "code",
   "execution_count": 14,
   "metadata": {
    "collapsed": false
   },
   "outputs": [
    {
     "data": {
      "text/plain": [
       "3"
      ]
     },
     "execution_count": 14,
     "metadata": {},
     "output_type": "execute_result"
    }
   ],
   "source": [
    "si.ec.maxn()"
   ]
  },
  {
   "cell_type": "markdown",
   "metadata": {},
   "source": [
    "### Some useful functions\n",
    "\n",
    "Next to stored attributes there is a number of useful functions"
   ]
  },
  {
   "cell_type": "code",
   "execution_count": 15,
   "metadata": {
    "collapsed": true
   },
   "outputs": [],
   "source": [
    "si = element('Si')"
   ]
  },
  {
   "cell_type": "code",
   "execution_count": 16,
   "metadata": {
    "collapsed": false
   },
   "outputs": [
    {
     "data": {
      "text/plain": [
       "4"
      ]
     },
     "execution_count": 16,
     "metadata": {},
     "output_type": "execute_result"
    }
   ],
   "source": [
    "# get the number of valence electrons\n",
    "si.nvalence()"
   ]
  },
  {
   "cell_type": "code",
   "execution_count": 17,
   "metadata": {
    "collapsed": false
   },
   "outputs": [
    {
     "data": {
      "text/plain": [
       "0.058318712346158874"
      ]
     },
     "execution_count": 17,
     "metadata": {},
     "output_type": "execute_result"
    }
   ],
   "source": [
    "# calculate softness for an ion\n",
    "si.softness(charge=2)"
   ]
  },
  {
   "cell_type": "code",
   "execution_count": 18,
   "metadata": {
    "collapsed": false
   },
   "outputs": [
    {
     "data": {
      "text/plain": [
       "60.812605"
      ]
     },
     "execution_count": 18,
     "metadata": {},
     "output_type": "execute_result"
    }
   ],
   "source": [
    "# calcualte hardness for an ion\n",
    "si.hardness(charge=4)"
   ]
  },
  {
   "cell_type": "code",
   "execution_count": 19,
   "metadata": {
    "collapsed": false
   },
   "outputs": [
    {
     "data": {
      "text/plain": [
       "8.1729225"
      ]
     },
     "execution_count": 19,
     "metadata": {},
     "output_type": "execute_result"
    }
   ],
   "source": [
    "# calculate mulliken electronegativity for a neutral atom or ion\n",
    "si.en_mulliken(charge=1)"
   ]
  },
  {
   "cell_type": "code",
   "execution_count": 20,
   "metadata": {
    "collapsed": false
   },
   "outputs": [
    {
     "data": {
      "text/plain": [
       "4.149999999999999"
      ]
     },
     "execution_count": 20,
     "metadata": {},
     "output_type": "execute_result"
    }
   ],
   "source": [
    "# calculate the effective nuclear charge for a subshell using Slater's rules\n",
    "si.zeff(n=3, o='s')"
   ]
  },
  {
   "cell_type": "code",
   "execution_count": 21,
   "metadata": {
    "collapsed": false
   },
   "outputs": [
    {
     "data": {
      "text/plain": [
       "4.9032"
      ]
     },
     "execution_count": 21,
     "metadata": {},
     "output_type": "execute_result"
    }
   ],
   "source": [
    "# calculate the effective nuclear charge for a subshell using Clemneti's and Raimondi's exponents\n",
    "si.zeff(n=3, o='s', method='clementi')"
   ]
  },
  {
   "cell_type": "markdown",
   "metadata": {},
   "source": [
    "### Electronegativity\n",
    "\n",
    "Currently there are 9 electronagativity scales implemented that can me accessed though the common ``electronegativity`` method, the scales are:\n",
    "\n",
    "* ``allen``\n",
    "* ``allred-rochow``\n",
    "* ``cottrell-sutton``\n",
    "* ``gordy``\n",
    "* ``li-xue``\n",
    "* ``mulliken``\n",
    "* ``nagle``\n",
    "* ``pauling``\n",
    "* ``sanderson``\n",
    "\n",
    "More information can be found in the [documentation](http://mendeleev.readthedocs.org/en/latest/electronegativity.html)."
   ]
  },
  {
   "cell_type": "code",
   "execution_count": 22,
   "metadata": {
    "collapsed": false
   },
   "outputs": [
    {
     "data": {
      "text/plain": [
       "1.9"
      ]
     },
     "execution_count": 22,
     "metadata": {},
     "output_type": "execute_result"
    }
   ],
   "source": [
    "si.electronegativity(scale='pauling')"
   ]
  },
  {
   "cell_type": "code",
   "execution_count": 23,
   "metadata": {
    "collapsed": false
   },
   "outputs": [
    {
     "data": {
      "text/plain": [
       "11.33"
      ]
     },
     "execution_count": 23,
     "metadata": {},
     "output_type": "execute_result"
    }
   ],
   "source": [
    "si.electronegativity(scale='allen')"
   ]
  },
  {
   "cell_type": "markdown",
   "metadata": {},
   "source": [
    "## CLI utility\n",
    "\n",
    "For those who work in the terminal there is a simple command line interface (CLI) for printing the information about a given element. The script name is element.py and it accepts either the symbol or name of the element as an argument and prints the data about it. For example, to print the properties of silicon type"
   ]
  },
  {
   "cell_type": "code",
   "execution_count": 24,
   "metadata": {
    "collapsed": false
   },
   "outputs": [
    {
     "name": "stdout",
     "output_type": "stream",
     "text": [
      "   _  _  _  _      _          \r\n",
      " _(_)(_)(_)(_)_   (_)         \r\n",
      "(_)          (_)_  _          \r\n",
      "(_)_  _  _  _  (_)(_)         \r\n",
      "  (_)(_)(_)(_)_   (_)         \r\n",
      " _           (_)  (_)         \r\n",
      "(_)_  _  _  _(_)_ (_) _       \r\n",
      "  (_)(_)(_)(_) (_)(_)(_)      \r\n",
      "                              \r\n",
      "                              \r\n",
      "\r\n",
      "Description\r\n",
      "===========\r\n",
      "\r\n",
      "  Metalloid element belonging to group 14 of the periodic table. It is\r\n",
      "  the second most abundant element in the Earth's crust, making up 25.7%\r\n",
      "  of it by weight. Chemically less reactive than carbon. First\r\n",
      "  identified by Lavoisier in 1787 and first isolated in 1823 by\r\n",
      "  Berzelius.\r\n",
      "\r\n",
      "Properties\r\n",
      "==========\r\n",
      "\r\n",
      "Abundance crust                  282000\r\n",
      "Abundance sea                       2.2\r\n",
      "Annotation                             \r\n",
      "Atomic number                        14\r\n",
      "Atomic radius                       132\r\n",
      "Atomic volume                      12.1\r\n",
      "Atomic weight                    28.085\r\n",
      "Atomic weight uncertainty           NaN\r\n",
      "Block                                 p\r\n",
      "Boiling point                      2628\r\n",
      "C6                                  305\r\n",
      "C6 gb                               308\r\n",
      "Covalent radius bragg               117\r\n",
      "Covalent radius cordero             111\r\n",
      "Covalent radius pyykko              116\r\n",
      "Covalent radius slater              110\r\n",
      "Cpk color                       #daa520\r\n",
      "Density                            2.33\r\n",
      "Dipole polarizability             37.31\r\n",
      "Electron affinity               1.38952\r\n",
      "Electronic configuration   [Ne] 3s2 3p2\r\n",
      "En allen                          11.33\r\n",
      "En ghosh                       0.178503\r\n",
      "En pauling                          1.9\r\n",
      "Evaporation heat                    383\r\n",
      "Fusion heat                        50.6\r\n",
      "Gas basicity                      814.1\r\n",
      "Group id                             14\r\n",
      "Heat of formation                   450\r\n",
      "Is monoisotopic                    None\r\n",
      "Is radioactive                    False\r\n",
      "Jmol color                      #f0c8a0\r\n",
      "Lattice constant                   5.43\r\n",
      "Lattice structure                   DIA\r\n",
      "Melting point                      1683\r\n",
      "Molcas gv color                 #f0c8a0\r\n",
      "Name                            Silicon\r\n",
      "Period                                3\r\n",
      "Proton affinity                     837\r\n",
      "Series id                             5\r\n",
      "Specific heat                     0.703\r\n",
      "Symbol                               Si\r\n",
      "Thermal conductivity                149\r\n",
      "Vdw radius                          210\r\n",
      "Vdw radius alvarez                  219\r\n",
      "Vdw radius batsanov                 210\r\n",
      "Vdw radius bondi                    210\r\n",
      "Vdw radius dreiding                 427\r\n",
      "Vdw radius mm3                      229\r\n",
      "Vdw radius rt                       NaN\r\n",
      "Vdw radius truhlar                  NaN\r\n",
      "Vdw radius uff                    429.5\r\n"
     ]
    }
   ],
   "source": [
    "!element.py Si"
   ]
  },
  {
   "cell_type": "code",
   "execution_count": 25,
   "metadata": {
    "collapsed": false
   },
   "outputs": [
    {
     "data": {
      "application/json": {
       "Software versions": [
        {
         "module": "Python",
         "version": "3.5.2 64bit [GCC 4.4.7 20120313 (Red Hat 4.4.7-1)]"
        },
        {
         "module": "IPython",
         "version": "5.1.0"
        },
        {
         "module": "OS",
         "version": "Linux 3.16.0 4 amd64 x86_64 with debian 8.6"
        },
        {
         "module": "mendeleev",
         "version": "0.2.16"
        },
        {
         "module": "bokeh",
         "version": "0.12.3"
        },
        {
         "module": "seaborn",
         "version": "0.7.1"
        },
        {
         "module": "matplotlib",
         "version": "1.5.1"
        }
       ]
      },
      "text/html": [
       "<table><tr><th>Software</th><th>Version</th></tr><tr><td>Python</td><td>3.5.2 64bit [GCC 4.4.7 20120313 (Red Hat 4.4.7-1)]</td></tr><tr><td>IPython</td><td>5.1.0</td></tr><tr><td>OS</td><td>Linux 3.16.0 4 amd64 x86_64 with debian 8.6</td></tr><tr><td>mendeleev</td><td>0.2.16</td></tr><tr><td>bokeh</td><td>0.12.3</td></tr><tr><td>seaborn</td><td>0.7.1</td></tr><tr><td>matplotlib</td><td>1.5.1</td></tr><tr><td colspan='2'>Sun Jan 08 01:11:12 2017 CET</td></tr></table>"
      ],
      "text/latex": [
       "\\begin{tabular}{|l|l|}\\hline\n",
       "{\\bf Software} & {\\bf Version} \\\\ \\hline\\hline\n",
       "Python & 3.5.2 64bit [GCC 4.4.7 20120313 (Red Hat 4.4.7-1)] \\\\ \\hline\n",
       "IPython & 5.1.0 \\\\ \\hline\n",
       "OS & Linux 3.16.0 4 amd64 x86\\_64 with debian 8.6 \\\\ \\hline\n",
       "mendeleev & 0.2.16 \\\\ \\hline\n",
       "bokeh & 0.12.3 \\\\ \\hline\n",
       "seaborn & 0.7.1 \\\\ \\hline\n",
       "matplotlib & 1.5.1 \\\\ \\hline\n",
       "\\hline \\multicolumn{2}{|l|}{Sun Jan 08 01:11:12 2017 CET} \\\\ \\hline\n",
       "\\end{tabular}\n"
      ],
      "text/plain": [
       "Software versions\n",
       "Python 3.5.2 64bit [GCC 4.4.7 20120313 (Red Hat 4.4.7-1)]\n",
       "IPython 5.1.0\n",
       "OS Linux 3.16.0 4 amd64 x86_64 with debian 8.6\n",
       "mendeleev 0.2.16\n",
       "bokeh 0.12.3\n",
       "seaborn 0.7.1\n",
       "matplotlib 1.5.1\n",
       "Sun Jan 08 01:11:12 2017 CET"
      ]
     },
     "execution_count": 25,
     "metadata": {},
     "output_type": "execute_result"
    }
   ],
   "source": [
    "%version_information mendeleev, bokeh, seaborn, matplotlib"
   ]
  }
 ],
 "metadata": {
  "anaconda-cloud": {},
  "kernelspec": {
   "display_name": "Python [default]",
   "language": "python",
   "name": "python3"
  },
  "language_info": {
   "codemirror_mode": {
    "name": "ipython",
    "version": 3
   },
   "file_extension": ".py",
   "mimetype": "text/x-python",
   "name": "python",
   "nbconvert_exporter": "python",
   "pygments_lexer": "ipython3",
   "version": "3.5.2"
  }
 },
 "nbformat": 4,
 "nbformat_minor": 0
}
