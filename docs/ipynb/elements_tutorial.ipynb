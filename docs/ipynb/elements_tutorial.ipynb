{
 "cells": [
  {
   "cell_type": "code",
   "execution_count": 1,
   "metadata": {
    "collapsed": false
   },
   "outputs": [],
   "source": [
    "from elements import element"
   ]
  },
  {
   "cell_type": "code",
   "execution_count": 2,
   "metadata": {
    "collapsed": true
   },
   "outputs": [],
   "source": [
    "%matplotlib inline\n",
    "import seaborn as sns"
   ]
  },
  {
   "cell_type": "code",
   "execution_count": 4,
   "metadata": {
    "collapsed": false
   },
   "outputs": [],
   "source": [
    "si = element('Si')"
   ]
  },
  {
   "cell_type": "code",
   "execution_count": 28,
   "metadata": {
    "collapsed": false
   },
   "outputs": [
    {
     "name": "stdout",
     "output_type": "stream",
     "text": [
      "annotation\n",
      "atomic_number\n",
      "atomic_radius\n",
      "atomic_volume\n",
      "block\n",
      "boiling_point\n",
      "covalent_radius\n",
      "density\n",
      "description\n",
      "dipole_polarizability\n",
      "electron_affinity\n",
      "electronegativity\n",
      "electronic_configuration\n",
      "evaporation_heat\n",
      "fusion_heat\n",
      "group\n",
      "group_id\n",
      "ionization_energies\n",
      "isotopes\n",
      "lattice_constant\n",
      "lattice_structure\n",
      "mass\n",
      "melting_point\n",
      "name\n",
      "oxidation_states\n",
      "period\n",
      "specific_heat\n",
      "symbol\n",
      "thermal_conductivity\n",
      "vdw_radius\n"
     ]
    }
   ],
   "source": [
    "for attr in sorted([k for k in si.__dict__.keys() if not k.startswith('_')]):\n",
    "    print(attr)"
   ]
  },
  {
   "cell_type": "code",
   "execution_count": 5,
   "metadata": {
    "collapsed": false
   },
   "outputs": [
    {
     "data": {
      "text/plain": [
       "14"
      ]
     },
     "execution_count": 5,
     "metadata": {},
     "output_type": "execute_result"
    }
   ],
   "source": [
    "si.atomic_number"
   ]
  },
  {
   "cell_type": "code",
   "execution_count": 6,
   "metadata": {
    "collapsed": false
   },
   "outputs": [
    {
     "data": {
      "text/plain": [
       "111.0"
      ]
     },
     "execution_count": 6,
     "metadata": {},
     "output_type": "execute_result"
    }
   ],
   "source": [
    "si.covalent_radius"
   ]
  },
  {
   "cell_type": "code",
   "execution_count": 7,
   "metadata": {
    "collapsed": false
   },
   "outputs": [
    {
     "data": {
      "text/plain": [
       "37.31"
      ]
     },
     "execution_count": 7,
     "metadata": {},
     "output_type": "execute_result"
    }
   ],
   "source": [
    "si.dipole_polarizability"
   ]
  },
  {
   "cell_type": "code",
   "execution_count": 19,
   "metadata": {
    "collapsed": false
   },
   "outputs": [
    {
     "name": "stdout",
     "output_type": "stream",
     "text": [
      " AN   Degree  IE [eV]  \n",
      "----------------------\n",
      "   14     1    8.15168\n",
      "   14     2   16.34585\n",
      "   14     3   33.49300\n",
      "   14     4   45.14179\n",
      "   14     5  166.76700\n",
      "   14     6  205.26700\n",
      "   14     7  246.32000\n",
      "   14     8  303.66000\n",
      "   14     9  351.10000\n",
      "   14    10  401.38000\n",
      "   14    11  476.18000\n",
      "   14    12  523.41500\n",
      "   14    13 2437.65804\n",
      "   14    14 2673.17740\n"
     ]
    }
   ],
   "source": [
    "print(\"{0:^5s} {1:^5s} {2:^10s}\\n{3}\".format(\"AN\", \"Degree\", \"IE [eV]\", \"-\"*22))\n",
    "for ie in si.ionization_energies:\n",
    "    print(ie)"
   ]
  },
  {
   "cell_type": "code",
   "execution_count": 22,
   "metadata": {
    "collapsed": false
   },
   "outputs": [
    {
     "name": "stdout",
     "output_type": "stream",
     "text": [
      " AN      Mass     Abu.   MN  \n",
      "------------------------------\n",
      "   14   27.97693  92.23%    28\n",
      "   14   28.97649   4.68%    29\n",
      "   14   29.97377   3.09%    30\n"
     ]
    }
   ],
   "source": [
    "print(\"{0:^5s} {1:^10s} {2:^6s} {3:^5s}\\n{4}\".format(\"AN\", \"Mass\", \"Abu.\", \"MN\", \"-\"*30))\n",
    "for iso in si.isotopes:\n",
    "    print(iso)"
   ]
  },
  {
   "cell_type": "code",
   "execution_count": 10,
   "metadata": {
    "collapsed": false
   },
   "outputs": [
    {
     "data": {
      "text/plain": [
       "3"
      ]
     },
     "execution_count": 10,
     "metadata": {},
     "output_type": "execute_result"
    }
   ],
   "source": [
    "si.period"
   ]
  },
  {
   "cell_type": "code",
   "execution_count": 12,
   "metadata": {
    "collapsed": false
   },
   "outputs": [
    {
     "data": {
      "text/plain": [
       "14"
      ]
     },
     "execution_count": 12,
     "metadata": {},
     "output_type": "execute_result"
    }
   ],
   "source": [
    "si.group_id"
   ]
  },
  {
   "cell_type": "code",
   "execution_count": 13,
   "metadata": {
    "collapsed": false
   },
   "outputs": [
    {
     "data": {
      "text/plain": [
       "\"Metalloid element belonging to group 14 of the periodic table. It is the second most abundant element in the Earth's crust, making up 25.7% of it by weight. Chemically less reactive than carbon. First identified by Lavoisier in 1787 and first isolated in 1823 by Berzelius.\""
      ]
     },
     "execution_count": 13,
     "metadata": {},
     "output_type": "execute_result"
    }
   ],
   "source": [
    "si.description"
   ]
  },
  {
   "cell_type": "code",
   "execution_count": 14,
   "metadata": {
    "collapsed": false
   },
   "outputs": [
    {
     "data": {
      "text/plain": [
       "'p'"
      ]
     },
     "execution_count": 14,
     "metadata": {},
     "output_type": "execute_result"
    }
   ],
   "source": [
    "si.block"
   ]
  },
  {
   "cell_type": "code",
   "execution_count": 15,
   "metadata": {
    "collapsed": false
   },
   "outputs": [
    {
     "data": {
      "text/plain": [
       "[<OxidationState(atomic_number=   14, oxidation_state=    4)>,\n",
       " <OxidationState(atomic_number=   14, oxidation_state=   -4)>]"
      ]
     },
     "execution_count": 15,
     "metadata": {},
     "output_type": "execute_result"
    }
   ],
   "source": [
    "si.oxidation_states"
   ]
  },
  {
   "cell_type": "code",
   "execution_count": 16,
   "metadata": {
    "collapsed": false
   },
   "outputs": [
    {
     "data": {
      "text/plain": [
       "'[Ne] 3s2 3p2'"
      ]
     },
     "execution_count": 16,
     "metadata": {},
     "output_type": "execute_result"
    }
   ],
   "source": [
    "si.electronic_configuration"
   ]
  }
 ],
 "metadata": {
  "kernelspec": {
   "display_name": "Python 3",
   "language": "python",
   "name": "python3"
  },
  "language_info": {
   "codemirror_mode": {
    "name": "ipython",
    "version": 3
   },
   "file_extension": ".py",
   "mimetype": "text/x-python",
   "name": "python",
   "nbconvert_exporter": "python",
   "pygments_lexer": "ipython3",
   "version": "3.4.0"
  }
 },
 "nbformat": 4,
 "nbformat_minor": 0
}
