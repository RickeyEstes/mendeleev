{
 "cells": [
  {
   "cell_type": "markdown",
   "metadata": {},
   "source": [
    "<h1 style=\"text-align:center\">Advanced Querying or Periodic Table Quiz</h1>"
   ]
  },
  {
   "cell_type": "code",
   "execution_count": 1,
   "metadata": {
    "collapsed": false
   },
   "outputs": [],
   "source": [
    "from mendeleev import Element, IonizationEnergy, OxidationState, Isotope, get_session"
   ]
  },
  {
   "cell_type": "code",
   "execution_count": 2,
   "metadata": {
    "collapsed": true
   },
   "outputs": [],
   "source": [
    "session = get_session()"
   ]
  },
  {
   "cell_type": "code",
   "execution_count": 3,
   "metadata": {
    "collapsed": false
   },
   "outputs": [
    {
     "name": "stdout",
     "output_type": "stream",
     "text": [
      "[(u'Oxygen',)]\n"
     ]
    }
   ],
   "source": [
    "ans = session.query(Element.name).filter(Element.atomic_number == 8).all()\n",
    "print(ans)"
   ]
  },
  {
   "cell_type": "code",
   "execution_count": 4,
   "metadata": {
    "collapsed": false
   },
   "outputs": [
    {
     "name": "stdout",
     "output_type": "stream",
     "text": [
      "[(u'Mendelevium',), (u'Nobelium',), (u'Lawrencium',), (u'Rutherfordium',), (u'Dubnium',), (u'Seaborgium',), (u'Bohrium',), (u'Hassium',), (u'Meitnerium',), (u'Darmstadtium',), (u'Roentgenium',), (u'Copernicium',), (u'Ununtrium',), (u'Flerovium',), (u'Ununpentium',), (u'Livermorium',), (u'Ununseptium',), (u'Ununoctium',)]\n"
     ]
    }
   ],
   "source": [
    "ans = session.query(Element.name).filter(Element.atomic_number > 100).all()\n",
    "print(ans)"
   ]
  },
  {
   "cell_type": "markdown",
   "metadata": {},
   "source": [
    "## Get all the elements order with respect to increasing covalent radius"
   ]
  },
  {
   "cell_type": "code",
   "execution_count": 7,
   "metadata": {
    "collapsed": false
   },
   "outputs": [
    {
     "name": "stdout",
     "output_type": "stream",
     "text": [
      "H   Hydrogen         32.00\n",
      "He  Helium           46.00\n",
      "O   Oxygen           63.00\n",
      "F   Fluorine         64.00\n",
      "Ne  Neon             67.00\n",
      "N   Nitrogen         71.00\n",
      "C   Carbon           75.00\n",
      "B   Boron            85.00\n",
      "Ar  Argon            96.00\n",
      "Cl  Chlorine         99.00\n",
      "Be  Beryllium       102.00\n",
      "S   Sulfur          103.00\n",
      "Ni  Nickel          110.00\n",
      "P   Phosphorus      111.00\n",
      "Co  Cobalt          111.00\n",
      "Cu  Copper          112.00\n",
      "Br  Bromine         114.00\n",
      "Si  Silicon         116.00\n",
      "Fe  Iron            116.00\n",
      "Se  Selenium        116.00\n",
      "Kr  Krypton         117.00\n",
      "Zn  Zinc            118.00\n",
      "Mn  Manganese       119.00\n",
      "Pd  Palladium       120.00\n",
      "Ge  Germanium       121.00\n",
      "As  Arsenic         121.00\n",
      "Rg  Roentgenium     121.00\n",
      "Cr  Chromium        122.00\n",
      "Ir  Iridium         122.00\n",
      "Cn  Copernicium     122.00\n",
      "Pt  Platinum        123.00\n",
      "Ga  Gallium         124.00\n",
      "Au  Gold            124.00\n",
      "Ru  Ruthenium       125.00\n",
      "Rh  Rhodium         125.00\n",
      "Al  Aluminum        126.00\n",
      "Tc  Technetium      128.00\n",
      "Ag  Silver          128.00\n",
      "Ds  Darmstadtium    128.00\n",
      "Os  Osmium          129.00\n",
      "Mt  Meitnerium      129.00\n",
      "Xe  Xenon           131.00\n",
      "Re  Rhenium         131.00\n",
      "Li  Lithium         133.00\n",
      "I   Iodine          133.00\n",
      "Hg  Mercury         133.00\n",
      "V   Vanadium        134.00\n",
      "Hs  Hassium         134.00\n",
      "Ti  Titanium        136.00\n",
      "Cd  Cadmium         136.00\n",
      "Te  Tellurium       136.00\n",
      "Uut Ununtrium       136.00\n",
      "W   Tungsten        137.00\n",
      "Mo  Molybdenum      138.00\n",
      "Mg  Magnesium       139.00\n",
      "Sn  Tin             140.00\n",
      "Sb  Antimony        140.00\n",
      "Bh  Bohrium         141.00\n",
      "In  Indium          142.00\n",
      "Rn  Radon           142.00\n",
      "Sg  Seaborgium      143.00\n",
      "Fl  Flerovium       143.00\n",
      "Tl  Thallium        144.00\n",
      "Pb  Lead            144.00\n",
      "Po  Polonium        145.00\n",
      "Ta  Tantalum        146.00\n",
      "Nb  Niobium         147.00\n",
      "At  Astatine        147.00\n",
      "Sc  Scandium        148.00\n",
      "Db  Dubnium         149.00\n",
      "Bi  Bismuth         151.00\n",
      "Hf  Hafnium         152.00\n",
      "Zr  Zirconium       154.00\n",
      "Na  Sodium          155.00\n",
      "Rf  Rutherfordium   157.00\n",
      "Uuo Ununoctium      157.00\n",
      "Lr  Lawrencium      161.00\n",
      "Lu  Lutetium        162.00\n",
      "Uup Ununpentium     162.00\n",
      "Y   Yttrium         163.00\n",
      "Ce  Cerium          163.00\n",
      "Tm  Thulium         164.00\n",
      "Er  Erbium          165.00\n",
      "Es  Einsteinium     165.00\n",
      "Uus Ununseptium     165.00\n",
      "Ho  Holmium         166.00\n",
      "Am  Americium       166.00\n",
      "Cm  Curium          166.00\n",
      "Dy  Dysprosium      167.00\n",
      "Fm  Fermium         167.00\n",
      "Eu  Europium        168.00\n",
      "Tb  Terbium         168.00\n",
      "Bk  Berkelium       168.00\n",
      "Cf  Californium     168.00\n",
      "Gd  Gadolinium      169.00\n",
      "Pa  Protactinium    169.00\n",
      "Yb  Ytterbium       170.00\n",
      "U   Uranium         170.00\n",
      "Ca  Calcium         171.00\n",
      "Np  Neptunium       171.00\n",
      "Sm  Samarium        172.00\n",
      "Pu  Plutonium       172.00\n",
      "Pm  Promethium      173.00\n",
      "Md  Mendelevium     173.00\n",
      "Nd  Neodymium       174.00\n",
      "Th  Thorium         175.00\n",
      "Lv  Livermorium     175.00\n",
      "Pr  Praseodymium    176.00\n",
      "No  Nobelium        176.00\n",
      "La  Lanthanum       180.00\n",
      "Sr  Strontium       185.00\n",
      "Ac  Actinium        186.00\n",
      "K   Potassium       196.00\n",
      "Ba  Barium          196.00\n",
      "Ra  Radium          201.00\n",
      "Rb  Rubidium        210.00\n",
      "Fr  Francium        223.00\n",
      "Cs  Cesium          232.00\n"
     ]
    }
   ],
   "source": [
    "ans = session.query(Element).filter(Element.covalent_radius != None).order_by(Element.covalent_radius)\n",
    "for a in ans:\n",
    "    print(\"{:3s} {:15s} {:>6.2f}\".format(a.symbol, a.name, a.covalent_radius))"
   ]
  },
  {
   "cell_type": "markdown",
   "metadata": {},
   "source": [
    "* largest, smallest, (min, max)\n",
    "* how many (count)"
   ]
  },
  {
   "cell_type": "markdown",
   "metadata": {},
   "source": [
    "## Get all the elements whose first ionization energy is smaller that 5 eV"
   ]
  },
  {
   "cell_type": "code",
   "execution_count": 11,
   "metadata": {
    "collapsed": false
   },
   "outputs": [
    {
     "name": "stdout",
     "output_type": "stream",
     "text": [
      "K 4.34066354\n",
      "Rb 4.177128\n",
      "Cs 3.893905548\n",
      "Fr 4.0727409\n",
      "Lr 4.9\n"
     ]
    }
   ],
   "source": [
    "ans = session.query(Element).join(IonizationEnergy).filter(IonizationEnergy.degree == 1).\\\n",
    "                                                    filter(IonizationEnergy.energy < 5).all()\n",
    "for a in ans:\n",
    "    print a.symbol, a.ionenergies[1]"
   ]
  },
  {
   "cell_type": "code",
   "execution_count": null,
   "metadata": {
    "collapsed": false
   },
   "outputs": [],
   "source": [
    "ans = session.query(Element).join(OxidationState).filter(OxidationState.oxidation_state. == 1).all()\n",
    "for a in ans:\n",
    "    print(a.symbol)"
   ]
  },
  {
   "cell_type": "code",
   "execution_count": null,
   "metadata": {
    "collapsed": true
   },
   "outputs": [],
   "source": []
  }
 ],
 "metadata": {
  "kernelspec": {
   "display_name": "Python 2",
   "language": "python",
   "name": "python2"
  },
  "language_info": {
   "codemirror_mode": {
    "name": "ipython",
    "version": 2
   },
   "file_extension": ".py",
   "mimetype": "text/x-python",
   "name": "python",
   "nbconvert_exporter": "python",
   "pygments_lexer": "ipython2",
   "version": "2.7.9"
  }
 },
 "nbformat": 4,
 "nbformat_minor": 0
}
